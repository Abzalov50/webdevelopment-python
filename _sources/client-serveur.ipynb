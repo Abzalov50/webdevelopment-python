{
 "cells": [
  {
   "cell_type": "code",
   "execution_count": 1,
   "id": "05483dad",
   "metadata": {},
   "outputs": [],
   "source": [
    "import socket"
   ]
  },
  {
   "cell_type": "code",
   "execution_count": 2,
   "id": "e78b1c3a",
   "metadata": {},
   "outputs": [],
   "source": [
    "def server_app():\n",
    "    host = socket.gethostname()  # Obtenir le nom d'hôte de la machine serveur\n",
    "    port = 8000  # Brancher le serveur à un port supérieur à 1024\n",
    "    \n",
    "    serv_socket = socket.socket()  # Créer un objet `socket'\n",
    "    serv_socket.bind( (host, port) )  # Associer l'objet au socket\n",
    "    \n",
    "    serv_socket.listen(2)  # Spécifier le nombre de requêtes simultanées que le serveur peut traiter\n",
    "    conn, address = serv_socket.accept()  # Le serveur est prêt à accepter une connexion\n",
    "    print('#### Aide :')\n",
    "    print('Pour arrêter le serveur, appuyer la touche Entrée sans saisir de texte, ou entrer \"Au revoir\" sans les guillemets.')\n",
    "    print('####\\n\\n')\n",
    "    print('Connexion depuis l\\'adresse : {0}'.format(address))\n",
    "    \n",
    "    # Lancer la boucle de traitement des requêtes\n",
    "    while True:\n",
    "        req = conn.recv(1024).decode()  # Requête limitée à 1024 octets\n",
    "        \n",
    "        if (not data) or (data.lower() == 'au revoir'):\n",
    "            # Si aucune donnée, arrêter le serveur\n",
    "            break\n",
    "        print(\"Données reçues de l'utilisateur connecté : {0}\".format(data))\n",
    "        data = input(' >> ')\n",
    "        conn.send(data.encode()) # Envoyer une réponse au client\n",
    "    \n",
    "    conn.close()  # Fermer la connexion à l'arrêt de la boucle de traitement."
   ]
  },
  {
   "cell_type": "code",
   "execution_count": 3,
   "id": "a0182035",
   "metadata": {},
   "outputs": [
    {
     "ename": "KeyboardInterrupt",
     "evalue": "",
     "output_type": "error",
     "traceback": [
      "\u001b[0;31m---------------------------------------------------------------------------\u001b[0m",
      "\u001b[0;31mKeyboardInterrupt\u001b[0m                         Traceback (most recent call last)",
      "Input \u001b[0;32mIn [3]\u001b[0m, in \u001b[0;36m<cell line: 1>\u001b[0;34m()\u001b[0m\n\u001b[0;32m----> 1\u001b[0m \u001b[43mserver_app\u001b[49m\u001b[43m(\u001b[49m\u001b[43m)\u001b[49m\n",
      "Input \u001b[0;32mIn [2]\u001b[0m, in \u001b[0;36mserver_app\u001b[0;34m()\u001b[0m\n\u001b[1;32m      6\u001b[0m serv_socket\u001b[38;5;241m.\u001b[39mbind( (host, port) )  \u001b[38;5;66;03m# Associer l'objet au socket\u001b[39;00m\n\u001b[1;32m      8\u001b[0m serv_socket\u001b[38;5;241m.\u001b[39mlisten(\u001b[38;5;241m2\u001b[39m)  \u001b[38;5;66;03m# Spécifier le nombre de requêtes simultanées que le serveur peut traiter\u001b[39;00m\n\u001b[0;32m----> 9\u001b[0m conn, address \u001b[38;5;241m=\u001b[39m \u001b[43mserv_socket\u001b[49m\u001b[38;5;241;43m.\u001b[39;49m\u001b[43maccept\u001b[49m\u001b[43m(\u001b[49m\u001b[43m)\u001b[49m  \u001b[38;5;66;03m# Le serveur est prêt à accepter une connexion\u001b[39;00m\n\u001b[1;32m     10\u001b[0m \u001b[38;5;28mprint\u001b[39m(\u001b[38;5;124m'\u001b[39m\u001b[38;5;124m#### Aide :\u001b[39m\u001b[38;5;124m'\u001b[39m)\n\u001b[1;32m     11\u001b[0m \u001b[38;5;28mprint\u001b[39m(\u001b[38;5;124m'\u001b[39m\u001b[38;5;124mPour arrêter le serveur, appuyer la touche Entrée sans saisir de texte, ou entrer \u001b[39m\u001b[38;5;124m\"\u001b[39m\u001b[38;5;124mAu revoir\u001b[39m\u001b[38;5;124m\"\u001b[39m\u001b[38;5;124m sans les guillemets.\u001b[39m\u001b[38;5;124m'\u001b[39m)\n",
      "File \u001b[0;32m/usr/lib/python3.10/socket.py:293\u001b[0m, in \u001b[0;36msocket.accept\u001b[0;34m(self)\u001b[0m\n\u001b[1;32m    286\u001b[0m \u001b[38;5;28;01mdef\u001b[39;00m \u001b[38;5;21maccept\u001b[39m(\u001b[38;5;28mself\u001b[39m):\n\u001b[1;32m    287\u001b[0m     \u001b[38;5;124;03m\"\"\"accept() -> (socket object, address info)\u001b[39;00m\n\u001b[1;32m    288\u001b[0m \n\u001b[1;32m    289\u001b[0m \u001b[38;5;124;03m    Wait for an incoming connection.  Return a new socket\u001b[39;00m\n\u001b[1;32m    290\u001b[0m \u001b[38;5;124;03m    representing the connection, and the address of the client.\u001b[39;00m\n\u001b[1;32m    291\u001b[0m \u001b[38;5;124;03m    For IP sockets, the address info is a pair (hostaddr, port).\u001b[39;00m\n\u001b[1;32m    292\u001b[0m \u001b[38;5;124;03m    \"\"\"\u001b[39;00m\n\u001b[0;32m--> 293\u001b[0m     fd, addr \u001b[38;5;241m=\u001b[39m \u001b[38;5;28;43mself\u001b[39;49m\u001b[38;5;241;43m.\u001b[39;49m\u001b[43m_accept\u001b[49m\u001b[43m(\u001b[49m\u001b[43m)\u001b[49m\n\u001b[1;32m    294\u001b[0m     sock \u001b[38;5;241m=\u001b[39m socket(\u001b[38;5;28mself\u001b[39m\u001b[38;5;241m.\u001b[39mfamily, \u001b[38;5;28mself\u001b[39m\u001b[38;5;241m.\u001b[39mtype, \u001b[38;5;28mself\u001b[39m\u001b[38;5;241m.\u001b[39mproto, fileno\u001b[38;5;241m=\u001b[39mfd)\n\u001b[1;32m    295\u001b[0m     \u001b[38;5;66;03m# Issue #7995: if no default timeout is set and the listening\u001b[39;00m\n\u001b[1;32m    296\u001b[0m     \u001b[38;5;66;03m# socket had a (non-zero) timeout, force the new socket in blocking\u001b[39;00m\n\u001b[1;32m    297\u001b[0m     \u001b[38;5;66;03m# mode to override platform-specific socket flags inheritance.\u001b[39;00m\n",
      "\u001b[0;31mKeyboardInterrupt\u001b[0m: "
     ]
    }
   ],
   "source": [
    "server_app()"
   ]
  },
  {
   "cell_type": "code",
   "execution_count": null,
   "id": "54b16292",
   "metadata": {},
   "outputs": [],
   "source": []
  },
  {
   "cell_type": "code",
   "execution_count": null,
   "id": "9fd7d94d",
   "metadata": {},
   "outputs": [],
   "source": []
  }
 ],
 "metadata": {
  "kernelspec": {
   "display_name": "Python 3 (ipykernel)",
   "language": "python",
   "name": "python3"
  },
  "language_info": {
   "codemirror_mode": {
    "name": "ipython",
    "version": 3
   },
   "file_extension": ".py",
   "mimetype": "text/x-python",
   "name": "python",
   "nbconvert_exporter": "python",
   "pygments_lexer": "ipython3",
   "version": "3.10.7"
  }
 },
 "nbformat": 4,
 "nbformat_minor": 5
}
