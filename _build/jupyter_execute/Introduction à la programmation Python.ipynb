{
 "cells": [
  {
   "cell_type": "markdown",
   "id": "34921346",
   "metadata": {},
   "source": [
    "# Introduction à la programmation Python\n",
    "Nous verrons les points suivants :\n",
    "1. Les types de données simples\n",
    "2. Les types de données composées\n",
    "3. Les variables et identificateurs\n",
    "4. Les structures de contrôle\n",
    "5. Les fonctions\n",
    "6. Le calcul scientifique\n",
    "\n",
    "Dans tout langage de programmation, nous avons d'une part les **données** (ou **objets** ou **valeurs**), et d'autre part des **opérations** sur ces données.\n",
    "\n",
    "Une donnée a un **type** qui est l'ensemble auquel appartient cette donnée. Donc un type permet de représenter un certain nombre de données."
   ]
  },
  {
   "cell_type": "markdown",
   "id": "89f000ed",
   "metadata": {},
   "source": [
    "## Les types de données simples"
   ]
  },
  {
   "cell_type": "markdown",
   "id": "34b2a720",
   "metadata": {},
   "source": [
    "### Les entiers (integer ou int)\n",
    "Les entiers en Python sont semblables aux entiers relatifs en maths, donc l'ensemble $\\mathbb{Z}$.\n",
    "\n",
    "Le type entier (int) permet de représenter tous les nombres entiers relatifs (potentiellement une infinité)"
   ]
  },
  {
   "cell_type": "code",
   "execution_count": 1,
   "id": "9dfcc4ba",
   "metadata": {},
   "outputs": [
    {
     "data": {
      "text/plain": [
       "1"
      ]
     },
     "execution_count": 1,
     "metadata": {},
     "output_type": "execute_result"
    }
   ],
   "source": [
    "1"
   ]
  },
  {
   "cell_type": "code",
   "execution_count": 2,
   "id": "7d41fc0e",
   "metadata": {},
   "outputs": [
    {
     "data": {
      "text/plain": [
       "-2"
      ]
     },
     "execution_count": 2,
     "metadata": {},
     "output_type": "execute_result"
    }
   ],
   "source": [
    "-2"
   ]
  },
  {
   "cell_type": "code",
   "execution_count": 3,
   "id": "36ac6f65",
   "metadata": {},
   "outputs": [
    {
     "data": {
      "text/plain": [
       "-244555555"
      ]
     },
     "execution_count": 3,
     "metadata": {},
     "output_type": "execute_result"
    }
   ],
   "source": [
    "-244555555"
   ]
  },
  {
   "cell_type": "code",
   "execution_count": 4,
   "id": "698f8658",
   "metadata": {},
   "outputs": [
    {
     "data": {
      "text/plain": [
       "int"
      ]
     },
     "execution_count": 4,
     "metadata": {},
     "output_type": "execute_result"
    }
   ],
   "source": [
    "type(-2)"
   ]
  },
  {
   "cell_type": "code",
   "execution_count": 5,
   "id": "92a537c1",
   "metadata": {},
   "outputs": [
    {
     "data": {
      "text/plain": [
       "int"
      ]
     },
     "execution_count": 5,
     "metadata": {},
     "output_type": "execute_result"
    }
   ],
   "source": [
    "type(2124455882555)"
   ]
  },
  {
   "cell_type": "code",
   "execution_count": 6,
   "id": "035048ee",
   "metadata": {},
   "outputs": [
    {
     "data": {
      "text/plain": [
       "int"
      ]
     },
     "execution_count": 6,
     "metadata": {},
     "output_type": "execute_result"
    }
   ],
   "source": [
    "type(212445588255555555555555555555555555555)"
   ]
  },
  {
   "cell_type": "code",
   "execution_count": 7,
   "id": "fdb9d32d",
   "metadata": {},
   "outputs": [
    {
     "data": {
      "text/plain": [
       "2"
      ]
     },
     "execution_count": 7,
     "metadata": {},
     "output_type": "execute_result"
    }
   ],
   "source": [
    "1 + 1 # addition"
   ]
  },
  {
   "cell_type": "code",
   "execution_count": 8,
   "id": "44a09797",
   "metadata": {},
   "outputs": [
    {
     "data": {
      "text/plain": [
       "1"
      ]
     },
     "execution_count": 8,
     "metadata": {},
     "output_type": "execute_result"
    }
   ],
   "source": [
    "2 - 1 # soustraction"
   ]
  },
  {
   "cell_type": "code",
   "execution_count": 9,
   "id": "cb2ece01",
   "metadata": {},
   "outputs": [
    {
     "data": {
      "text/plain": [
       "20"
      ]
     },
     "execution_count": 9,
     "metadata": {},
     "output_type": "execute_result"
    }
   ],
   "source": [
    "2 * 10 # multiplication"
   ]
  },
  {
   "cell_type": "code",
   "execution_count": 10,
   "id": "c1627f14",
   "metadata": {},
   "outputs": [
    {
     "data": {
      "text/plain": [
       "2.5"
      ]
     },
     "execution_count": 10,
     "metadata": {},
     "output_type": "execute_result"
    }
   ],
   "source": [
    "5/2 # Division réelle"
   ]
  },
  {
   "cell_type": "code",
   "execution_count": 11,
   "id": "a9720188",
   "metadata": {},
   "outputs": [
    {
     "data": {
      "text/plain": [
       "2"
      ]
     },
     "execution_count": 11,
     "metadata": {},
     "output_type": "execute_result"
    }
   ],
   "source": [
    "5 // 2 # Division entière"
   ]
  },
  {
   "cell_type": "code",
   "execution_count": 12,
   "id": "1022bea8",
   "metadata": {},
   "outputs": [
    {
     "data": {
      "text/plain": [
       "1"
      ]
     },
     "execution_count": 12,
     "metadata": {},
     "output_type": "execute_result"
    }
   ],
   "source": [
    "5 % 2 # Reste de la division entière"
   ]
  },
  {
   "cell_type": "code",
   "execution_count": 13,
   "id": "c1b93b96",
   "metadata": {},
   "outputs": [
    {
     "data": {
      "text/plain": [
       "0"
      ]
     },
     "execution_count": 13,
     "metadata": {},
     "output_type": "execute_result"
    }
   ],
   "source": [
    "6 % 2 # Reste de la division entière"
   ]
  },
  {
   "cell_type": "code",
   "execution_count": 14,
   "id": "f91d103f",
   "metadata": {},
   "outputs": [
    {
     "data": {
      "text/plain": [
       "1024"
      ]
     },
     "execution_count": 14,
     "metadata": {},
     "output_type": "execute_result"
    }
   ],
   "source": [
    "2 ** 10 # Puissance"
   ]
  },
  {
   "cell_type": "markdown",
   "id": "0842c63e",
   "metadata": {},
   "source": [
    "### Les nombres à virgule flottante (float)\n",
    "Les flottants en Python sont semblables aux nombres réels en maths, donc l'ensemble $\\mathbb{R}$."
   ]
  },
  {
   "cell_type": "code",
   "execution_count": 15,
   "id": "6f70337e",
   "metadata": {},
   "outputs": [
    {
     "data": {
      "text/plain": [
       "1.5"
      ]
     },
     "execution_count": 15,
     "metadata": {},
     "output_type": "execute_result"
    }
   ],
   "source": [
    "1.5"
   ]
  },
  {
   "cell_type": "code",
   "execution_count": 16,
   "id": "14d42f80",
   "metadata": {},
   "outputs": [
    {
     "data": {
      "text/plain": [
       "-21.657787"
      ]
     },
     "execution_count": 16,
     "metadata": {},
     "output_type": "execute_result"
    }
   ],
   "source": [
    "-21.657787"
   ]
  },
  {
   "cell_type": "code",
   "execution_count": 17,
   "id": "d4efc54a",
   "metadata": {},
   "outputs": [
    {
     "data": {
      "text/plain": [
       "2500.0"
      ]
     },
     "execution_count": 17,
     "metadata": {},
     "output_type": "execute_result"
    }
   ],
   "source": [
    "# Notation scientifique : xEa est équivalent à x * 10^a\n",
    "2.5e3   # ou 2.5E3"
   ]
  },
  {
   "cell_type": "code",
   "execution_count": 18,
   "id": "669118e2",
   "metadata": {},
   "outputs": [
    {
     "data": {
      "text/plain": [
       "float"
      ]
     },
     "execution_count": 18,
     "metadata": {},
     "output_type": "execute_result"
    }
   ],
   "source": [
    "type(-21.657787)"
   ]
  },
  {
   "cell_type": "code",
   "execution_count": 19,
   "id": "30fef00b",
   "metadata": {},
   "outputs": [
    {
     "data": {
      "text/plain": [
       "2.0"
      ]
     },
     "execution_count": 19,
     "metadata": {},
     "output_type": "execute_result"
    }
   ],
   "source": [
    "2."
   ]
  },
  {
   "cell_type": "code",
   "execution_count": 20,
   "id": "5261cce7",
   "metadata": {},
   "outputs": [],
   "source": [
    "# Le module `math' contient de nombreuses fonctions sur les nombres et constantes \n",
    "import math"
   ]
  },
  {
   "cell_type": "code",
   "execution_count": 21,
   "id": "92b204ec",
   "metadata": {},
   "outputs": [
    {
     "data": {
      "text/plain": [
       "3.141592653589793"
      ]
     },
     "execution_count": 21,
     "metadata": {},
     "output_type": "execute_result"
    }
   ],
   "source": [
    "math.pi"
   ]
  },
  {
   "cell_type": "code",
   "execution_count": 22,
   "id": "6abbfb39",
   "metadata": {},
   "outputs": [
    {
     "data": {
      "text/plain": [
       "2.718281828459045"
      ]
     },
     "execution_count": 22,
     "metadata": {},
     "output_type": "execute_result"
    }
   ],
   "source": [
    "math.e"
   ]
  },
  {
   "cell_type": "code",
   "execution_count": 23,
   "id": "411934a2",
   "metadata": {},
   "outputs": [
    {
     "data": {
      "text/plain": [
       "5.0"
      ]
     },
     "execution_count": 23,
     "metadata": {},
     "output_type": "execute_result"
    }
   ],
   "source": [
    "math.sqrt(25)   # racine carrée"
   ]
  },
  {
   "cell_type": "code",
   "execution_count": 24,
   "id": "683bb1c3",
   "metadata": {},
   "outputs": [
    {
     "data": {
      "text/plain": [
       "0.0"
      ]
     },
     "execution_count": 24,
     "metadata": {},
     "output_type": "execute_result"
    }
   ],
   "source": [
    "math.log(1)   # logarithme de base e, càd le logarithme népérien"
   ]
  },
  {
   "cell_type": "code",
   "execution_count": 25,
   "id": "8487cc09",
   "metadata": {},
   "outputs": [
    {
     "data": {
      "text/plain": [
       "0.6931471805599453"
      ]
     },
     "execution_count": 25,
     "metadata": {},
     "output_type": "execute_result"
    }
   ],
   "source": [
    "math.log(2)"
   ]
  },
  {
   "cell_type": "code",
   "execution_count": 26,
   "id": "bbc0a704",
   "metadata": {},
   "outputs": [
    {
     "data": {
      "text/plain": [
       "2.9999999999999996"
      ]
     },
     "execution_count": 26,
     "metadata": {},
     "output_type": "execute_result"
    }
   ],
   "source": [
    "math.log(10**3, 10)   # logarithme de base 10"
   ]
  },
  {
   "cell_type": "code",
   "execution_count": 27,
   "id": "be566dbe",
   "metadata": {},
   "outputs": [
    {
     "data": {
      "text/plain": [
       "2.0"
      ]
     },
     "execution_count": 27,
     "metadata": {},
     "output_type": "execute_result"
    }
   ],
   "source": [
    "math.exp(math.log(2))"
   ]
  },
  {
   "cell_type": "code",
   "execution_count": 28,
   "id": "3a1468cd",
   "metadata": {},
   "outputs": [
    {
     "data": {
      "text/plain": [
       "1024.0"
      ]
     },
     "execution_count": 28,
     "metadata": {},
     "output_type": "execute_result"
    }
   ],
   "source": [
    "math.pow(2, 10)    # Elévation à la puissance"
   ]
  },
  {
   "cell_type": "code",
   "execution_count": 29,
   "id": "e3d12ba5",
   "metadata": {},
   "outputs": [
    {
     "data": {
      "text/plain": [
       "0.49999999999999994"
      ]
     },
     "execution_count": 29,
     "metadata": {},
     "output_type": "execute_result"
    }
   ],
   "source": [
    "math.sin(math.pi / 6)   # Sinus"
   ]
  },
  {
   "cell_type": "code",
   "execution_count": 30,
   "id": "cd3e1491",
   "metadata": {},
   "outputs": [
    {
     "data": {
      "text/plain": [
       "['__name__',\n",
       " '__doc__',\n",
       " '__package__',\n",
       " '__loader__',\n",
       " '__spec__',\n",
       " 'acos',\n",
       " 'acosh',\n",
       " 'asin',\n",
       " 'asinh',\n",
       " 'atan',\n",
       " 'atan2',\n",
       " 'atanh',\n",
       " 'ceil',\n",
       " 'copysign',\n",
       " 'cos',\n",
       " 'cosh',\n",
       " 'degrees',\n",
       " 'dist',\n",
       " 'erf',\n",
       " 'erfc',\n",
       " 'exp',\n",
       " 'expm1',\n",
       " 'fabs',\n",
       " 'factorial',\n",
       " 'floor',\n",
       " 'fmod',\n",
       " 'frexp',\n",
       " 'fsum',\n",
       " 'gamma',\n",
       " 'gcd',\n",
       " 'hypot',\n",
       " 'isclose',\n",
       " 'isfinite',\n",
       " 'isinf',\n",
       " 'isnan',\n",
       " 'isqrt',\n",
       " 'lcm',\n",
       " 'ldexp',\n",
       " 'lgamma',\n",
       " 'log',\n",
       " 'log1p',\n",
       " 'log10',\n",
       " 'log2',\n",
       " 'modf',\n",
       " 'pow',\n",
       " 'radians',\n",
       " 'remainder',\n",
       " 'sin',\n",
       " 'sinh',\n",
       " 'sqrt',\n",
       " 'tan',\n",
       " 'tanh',\n",
       " 'trunc',\n",
       " 'prod',\n",
       " 'perm',\n",
       " 'comb',\n",
       " 'nextafter',\n",
       " 'ulp',\n",
       " 'pi',\n",
       " 'e',\n",
       " 'tau',\n",
       " 'inf',\n",
       " 'nan']"
      ]
     },
     "execution_count": 30,
     "metadata": {},
     "output_type": "execute_result"
    }
   ],
   "source": [
    "math.__dir__()   # La méthode __dir__() affiche les fonctions et constantes contenues dans un module"
   ]
  },
  {
   "cell_type": "markdown",
   "id": "0ce54cad",
   "metadata": {},
   "source": [
    "### Les chaînes de caractères (string ou str)\n",
    "Un string est une suite *ordonnée* de caractères alphanumériques et/ou spéciaux, délimitée par des guillemets (simples, doubles ou triples)."
   ]
  },
  {
   "cell_type": "code",
   "execution_count": 31,
   "id": "d4fe0f25",
   "metadata": {},
   "outputs": [
    {
     "data": {
      "text/plain": [
       "'Python est un langage'"
      ]
     },
     "execution_count": 31,
     "metadata": {},
     "output_type": "execute_result"
    }
   ],
   "source": [
    "\"Python est un langage\""
   ]
  },
  {
   "cell_type": "code",
   "execution_count": 32,
   "id": "d441bd8b",
   "metadata": {},
   "outputs": [
    {
     "data": {
      "text/plain": [
       "'Python est un langage'"
      ]
     },
     "execution_count": 32,
     "metadata": {},
     "output_type": "execute_result"
    }
   ],
   "source": [
    "\"\"\"Python est un langage\"\"\""
   ]
  },
  {
   "cell_type": "code",
   "execution_count": 33,
   "id": "e5e7562c",
   "metadata": {},
   "outputs": [
    {
     "data": {
      "text/plain": [
       "'Python est un langage'"
      ]
     },
     "execution_count": 33,
     "metadata": {},
     "output_type": "execute_result"
    }
   ],
   "source": [
    "'''Python est un langage'''"
   ]
  },
  {
   "cell_type": "code",
   "execution_count": 34,
   "id": "4e11bac7",
   "metadata": {},
   "outputs": [
    {
     "data": {
      "text/plain": [
       "'Python 3.0 & Java'"
      ]
     },
     "execution_count": 34,
     "metadata": {},
     "output_type": "execute_result"
    }
   ],
   "source": [
    "\"Python 3.0 & Java\""
   ]
  },
  {
   "cell_type": "code",
   "execution_count": 35,
   "id": "fb8c337c",
   "metadata": {},
   "outputs": [
    {
     "data": {
      "text/plain": [
       "'L\\'école est \"vitale\"'"
      ]
     },
     "execution_count": 35,
     "metadata": {},
     "output_type": "execute_result"
    }
   ],
   "source": [
    "'''L'école est \"vitale\"'''"
   ]
  },
  {
   "cell_type": "code",
   "execution_count": 36,
   "id": "b1baa177",
   "metadata": {},
   "outputs": [
    {
     "data": {
      "text/plain": [
       "'Python 3.0 & Java'"
      ]
     },
     "execution_count": 36,
     "metadata": {},
     "output_type": "execute_result"
    }
   ],
   "source": [
    "\"Python 3.0 \" + \"&\" + \" Java\"   # Concaténation"
   ]
  },
  {
   "cell_type": "code",
   "execution_count": 37,
   "id": "f0937e9f",
   "metadata": {},
   "outputs": [
    {
     "data": {
      "text/plain": [
       "'PythonPythonPythonPythonPython'"
      ]
     },
     "execution_count": 37,
     "metadata": {},
     "output_type": "execute_result"
    }
   ],
   "source": [
    "\"Python\" * 5"
   ]
  },
  {
   "cell_type": "code",
   "execution_count": 38,
   "id": "e7049feb",
   "metadata": {},
   "outputs": [
    {
     "data": {
      "text/plain": [
       "'P'"
      ]
     },
     "execution_count": 38,
     "metadata": {},
     "output_type": "execute_result"
    }
   ],
   "source": [
    "\"Python\"[0]  # Extraction de caractères"
   ]
  },
  {
   "cell_type": "code",
   "execution_count": 39,
   "id": "00a6aef0",
   "metadata": {},
   "outputs": [
    {
     "data": {
      "text/plain": [
       "'y'"
      ]
     },
     "execution_count": 39,
     "metadata": {},
     "output_type": "execute_result"
    }
   ],
   "source": [
    "\"Python\"[1]"
   ]
  },
  {
   "cell_type": "code",
   "execution_count": 40,
   "id": "b2bcd7f8",
   "metadata": {},
   "outputs": [
    {
     "data": {
      "text/plain": [
       "6"
      ]
     },
     "execution_count": 40,
     "metadata": {},
     "output_type": "execute_result"
    }
   ],
   "source": [
    "len(\"Python\")"
   ]
  },
  {
   "cell_type": "code",
   "execution_count": 41,
   "id": "143bb0e1",
   "metadata": {},
   "outputs": [
    {
     "data": {
      "text/plain": [
       "'n'"
      ]
     },
     "execution_count": 41,
     "metadata": {},
     "output_type": "execute_result"
    }
   ],
   "source": [
    "\"Python\"[5]"
   ]
  },
  {
   "cell_type": "code",
   "execution_count": 42,
   "id": "ccbb384e",
   "metadata": {},
   "outputs": [
    {
     "data": {
      "text/plain": [
       "'n'"
      ]
     },
     "execution_count": 42,
     "metadata": {},
     "output_type": "execute_result"
    }
   ],
   "source": [
    "\"Python\"[-1]"
   ]
  },
  {
   "cell_type": "code",
   "execution_count": 43,
   "id": "0bd85b70",
   "metadata": {},
   "outputs": [
    {
     "data": {
      "text/plain": [
       "'thon'"
      ]
     },
     "execution_count": 43,
     "metadata": {},
     "output_type": "execute_result"
    }
   ],
   "source": [
    "# Extraction de sous-chaîne. Syntaxe : chaine[a:b]\n",
    "# `a' est la position initiale, et `b' est la position finale mais n'est pas incluse.\n",
    "# Càd que [a:b] peut être vu comme un intervalle fermé en `a' et ouvert en `b': [a, b[\n",
    "\"Python\"[2:6]"
   ]
  },
  {
   "cell_type": "code",
   "execution_count": 44,
   "id": "93288bfb",
   "metadata": {},
   "outputs": [
    {
     "data": {
      "text/plain": [
       "'tho'"
      ]
     },
     "execution_count": 44,
     "metadata": {},
     "output_type": "execute_result"
    }
   ],
   "source": [
    "\"Python\"[2:5]"
   ]
  },
  {
   "cell_type": "code",
   "execution_count": 45,
   "id": "9ffe76a7",
   "metadata": {},
   "outputs": [
    {
     "data": {
      "text/plain": [
       "'thon'"
      ]
     },
     "execution_count": 45,
     "metadata": {},
     "output_type": "execute_result"
    }
   ],
   "source": [
    "\"Python\"[2:]"
   ]
  },
  {
   "cell_type": "code",
   "execution_count": 46,
   "id": "f76008c6",
   "metadata": {},
   "outputs": [
    {
     "data": {
      "text/plain": [
       "'Pytho'"
      ]
     },
     "execution_count": 46,
     "metadata": {},
     "output_type": "execute_result"
    }
   ],
   "source": [
    "\"Python\"[:5]"
   ]
  },
  {
   "cell_type": "code",
   "execution_count": 47,
   "id": "6eb20688",
   "metadata": {},
   "outputs": [
    {
     "data": {
      "text/plain": [
       "'Python'"
      ]
     },
     "execution_count": 47,
     "metadata": {},
     "output_type": "execute_result"
    }
   ],
   "source": [
    "\"Python\"[:]"
   ]
  },
  {
   "cell_type": "code",
   "execution_count": 48,
   "id": "1defa8fb",
   "metadata": {},
   "outputs": [
    {
     "data": {
      "text/plain": [
       "'to s nlnae'"
      ]
     },
     "execution_count": 48,
     "metadata": {},
     "output_type": "execute_result"
    }
   ],
   "source": [
    "\"Python est un langage\"[2::2]"
   ]
  },
  {
   "cell_type": "code",
   "execution_count": 49,
   "id": "7e668ce9",
   "metadata": {},
   "outputs": [
    {
     "data": {
      "text/plain": [
       "'PYTHON EST UN LANGAGE'"
      ]
     },
     "execution_count": 49,
     "metadata": {},
     "output_type": "execute_result"
    }
   ],
   "source": [
    "\"Python est un langage\".upper()  "
   ]
  },
  {
   "cell_type": "code",
   "execution_count": 50,
   "id": "9bd8153d",
   "metadata": {},
   "outputs": [
    {
     "data": {
      "text/plain": [
       "'python est un langage'"
      ]
     },
     "execution_count": 50,
     "metadata": {},
     "output_type": "execute_result"
    }
   ],
   "source": [
    "'PYTHON EST UN LANGAGE'.lower()"
   ]
  },
  {
   "cell_type": "code",
   "execution_count": 51,
   "id": "eedf9f30",
   "metadata": {},
   "outputs": [
    {
     "data": {
      "text/plain": [
       "True"
      ]
     },
     "execution_count": 51,
     "metadata": {},
     "output_type": "execute_result"
    }
   ],
   "source": [
    "'PYTHON EST UN LANGAGE'.startswith('PY')"
   ]
  },
  {
   "cell_type": "code",
   "execution_count": 52,
   "id": "34e2a408",
   "metadata": {},
   "outputs": [
    {
     "data": {
      "text/plain": [
       "False"
      ]
     },
     "execution_count": 52,
     "metadata": {},
     "output_type": "execute_result"
    }
   ],
   "source": [
    "'PYTHON EST UN LANGAGE'.startswith('py')"
   ]
  },
  {
   "cell_type": "code",
   "execution_count": 53,
   "id": "ffe49b94",
   "metadata": {},
   "outputs": [
    {
     "data": {
      "text/plain": [
       "True"
      ]
     },
     "execution_count": 53,
     "metadata": {},
     "output_type": "execute_result"
    }
   ],
   "source": [
    "'PYTHON EST UN LANGAGE'.endswith('LANGAGE')"
   ]
  },
  {
   "cell_type": "code",
   "execution_count": 54,
   "id": "306fe656",
   "metadata": {},
   "outputs": [
    {
     "data": {
      "text/plain": [
       "False"
      ]
     },
     "execution_count": 54,
     "metadata": {},
     "output_type": "execute_result"
    }
   ],
   "source": [
    "'PYTHON EST UN LANGAGE'.endswith('langage')"
   ]
  },
  {
   "cell_type": "code",
   "execution_count": 55,
   "id": "5a75b43e",
   "metadata": {},
   "outputs": [
    {
     "data": {
      "text/plain": [
       "str"
      ]
     },
     "execution_count": 55,
     "metadata": {},
     "output_type": "execute_result"
    }
   ],
   "source": [
    "type('PYTHON EST UN LANGAGE')"
   ]
  },
  {
   "cell_type": "markdown",
   "id": "9abddc62",
   "metadata": {},
   "source": [
    "### Le type booléen (bool)\n",
    "Un booléen est une valeur de vérité (vrai ou faux).<br>\n",
    "Le type booléen ne permet de représenter que 2 valeurs: **`True`** et **`False`**."
   ]
  },
  {
   "cell_type": "code",
   "execution_count": 56,
   "id": "c256e41c",
   "metadata": {},
   "outputs": [
    {
     "data": {
      "text/plain": [
       "True"
      ]
     },
     "execution_count": 56,
     "metadata": {},
     "output_type": "execute_result"
    }
   ],
   "source": [
    "True"
   ]
  },
  {
   "cell_type": "code",
   "execution_count": 57,
   "id": "d8addd2d",
   "metadata": {},
   "outputs": [
    {
     "data": {
      "text/plain": [
       "False"
      ]
     },
     "execution_count": 57,
     "metadata": {},
     "output_type": "execute_result"
    }
   ],
   "source": [
    "False"
   ]
  },
  {
   "cell_type": "code",
   "execution_count": 58,
   "id": "adb7ab1b",
   "metadata": {},
   "outputs": [
    {
     "data": {
      "text/plain": [
       "bool"
      ]
     },
     "execution_count": 58,
     "metadata": {},
     "output_type": "execute_result"
    }
   ],
   "source": [
    "type(True)"
   ]
  },
  {
   "cell_type": "code",
   "execution_count": 59,
   "id": "14212eda",
   "metadata": {},
   "outputs": [
    {
     "data": {
      "text/plain": [
       "False"
      ]
     },
     "execution_count": 59,
     "metadata": {},
     "output_type": "execute_result"
    }
   ],
   "source": [
    "False and True"
   ]
  },
  {
   "cell_type": "code",
   "execution_count": 60,
   "id": "1fbeae6f",
   "metadata": {},
   "outputs": [
    {
     "data": {
      "text/plain": [
       "True"
      ]
     },
     "execution_count": 60,
     "metadata": {},
     "output_type": "execute_result"
    }
   ],
   "source": [
    "True and True"
   ]
  },
  {
   "cell_type": "code",
   "execution_count": 61,
   "id": "4724f151",
   "metadata": {},
   "outputs": [
    {
     "data": {
      "text/plain": [
       "True"
      ]
     },
     "execution_count": 61,
     "metadata": {},
     "output_type": "execute_result"
    }
   ],
   "source": [
    "True or False"
   ]
  },
  {
   "cell_type": "code",
   "execution_count": 62,
   "id": "689babb1",
   "metadata": {},
   "outputs": [
    {
     "data": {
      "text/plain": [
       "False"
      ]
     },
     "execution_count": 62,
     "metadata": {},
     "output_type": "execute_result"
    }
   ],
   "source": [
    "False or False"
   ]
  },
  {
   "cell_type": "code",
   "execution_count": 63,
   "id": "e6f26e78",
   "metadata": {},
   "outputs": [
    {
     "data": {
      "text/plain": [
       "True"
      ]
     },
     "execution_count": 63,
     "metadata": {},
     "output_type": "execute_result"
    }
   ],
   "source": [
    "True and (True or False)"
   ]
  },
  {
   "cell_type": "markdown",
   "id": "fda3c9de",
   "metadata": {},
   "source": [
    "**Les conditions**\n",
    "\n",
    "Une `condition` (ou `prédicat` ou `assertion`) est une expression Python dont la valeur est un booléen (True ou False)."
   ]
  },
  {
   "cell_type": "code",
   "execution_count": 64,
   "id": "fd2e77fc",
   "metadata": {},
   "outputs": [
    {
     "data": {
      "text/plain": [
       "False"
      ]
     },
     "execution_count": 64,
     "metadata": {},
     "output_type": "execute_result"
    }
   ],
   "source": [
    "1 < 0"
   ]
  },
  {
   "cell_type": "code",
   "execution_count": 65,
   "id": "baa4a6b3",
   "metadata": {},
   "outputs": [
    {
     "data": {
      "text/plain": [
       "True"
      ]
     },
     "execution_count": 65,
     "metadata": {},
     "output_type": "execute_result"
    }
   ],
   "source": [
    "2 >= 0"
   ]
  },
  {
   "cell_type": "code",
   "execution_count": 66,
   "id": "af38e09a",
   "metadata": {},
   "outputs": [
    {
     "data": {
      "text/plain": [
       "True"
      ]
     },
     "execution_count": 66,
     "metadata": {},
     "output_type": "execute_result"
    }
   ],
   "source": [
    "1 == 1"
   ]
  },
  {
   "cell_type": "code",
   "execution_count": 67,
   "id": "ee15db88",
   "metadata": {},
   "outputs": [
    {
     "data": {
      "text/plain": [
       "False"
      ]
     },
     "execution_count": 67,
     "metadata": {},
     "output_type": "execute_result"
    }
   ],
   "source": [
    "not True"
   ]
  },
  {
   "cell_type": "code",
   "execution_count": 68,
   "id": "584ef8c9",
   "metadata": {},
   "outputs": [
    {
     "data": {
      "text/plain": [
       "True"
      ]
     },
     "execution_count": 68,
     "metadata": {},
     "output_type": "execute_result"
    }
   ],
   "source": [
    "not False"
   ]
  },
  {
   "cell_type": "code",
   "execution_count": 69,
   "id": "2f01aeeb",
   "metadata": {},
   "outputs": [
    {
     "data": {
      "text/plain": [
       "False"
      ]
     },
     "execution_count": 69,
     "metadata": {},
     "output_type": "execute_result"
    }
   ],
   "source": [
    "not(True)"
   ]
  },
  {
   "cell_type": "code",
   "execution_count": 70,
   "id": "805d1ff1",
   "metadata": {},
   "outputs": [
    {
     "data": {
      "text/plain": [
       "True"
      ]
     },
     "execution_count": 70,
     "metadata": {},
     "output_type": "execute_result"
    }
   ],
   "source": [
    "not(False)"
   ]
  },
  {
   "cell_type": "code",
   "execution_count": 71,
   "id": "b7b104fb",
   "metadata": {},
   "outputs": [
    {
     "data": {
      "text/plain": [
       "False"
      ]
     },
     "execution_count": 71,
     "metadata": {},
     "output_type": "execute_result"
    }
   ],
   "source": [
    "not(1 == 1)"
   ]
  },
  {
   "cell_type": "code",
   "execution_count": 72,
   "id": "dd412634",
   "metadata": {},
   "outputs": [
    {
     "data": {
      "text/plain": [
       "False"
      ]
     },
     "execution_count": 72,
     "metadata": {},
     "output_type": "execute_result"
    }
   ],
   "source": [
    "not(1 == 1) and 6 % 2 == 0"
   ]
  },
  {
   "cell_type": "markdown",
   "id": "6336908a",
   "metadata": {},
   "source": [
    "### Le type NoneType"
   ]
  },
  {
   "cell_type": "code",
   "execution_count": 73,
   "id": "4ff1379e",
   "metadata": {},
   "outputs": [],
   "source": [
    "None"
   ]
  },
  {
   "cell_type": "code",
   "execution_count": 74,
   "id": "035a71b9",
   "metadata": {},
   "outputs": [
    {
     "data": {
      "text/plain": [
       "NoneType"
      ]
     },
     "execution_count": 74,
     "metadata": {},
     "output_type": "execute_result"
    }
   ],
   "source": [
    "type(None)"
   ]
  },
  {
   "cell_type": "markdown",
   "id": "f64f36b5",
   "metadata": {},
   "source": [
    "## Les types de données composées"
   ]
  },
  {
   "cell_type": "markdown",
   "id": "27e3e016",
   "metadata": {},
   "source": [
    "### La liste (list)\n",
    "Une liste est une suite *ordonnée* d'éléments de tout type séparés par une virgule. La liste est délimitée par des *crochets*."
   ]
  },
  {
   "cell_type": "code",
   "execution_count": 75,
   "id": "1b453de5",
   "metadata": {},
   "outputs": [
    {
     "data": {
      "text/plain": [
       "[1, 2, 'Python']"
      ]
     },
     "execution_count": 75,
     "metadata": {},
     "output_type": "execute_result"
    }
   ],
   "source": [
    "[1, 2, \"Python\"]"
   ]
  },
  {
   "cell_type": "code",
   "execution_count": 76,
   "id": "3286ee3d",
   "metadata": {},
   "outputs": [
    {
     "data": {
      "text/plain": [
       "[1, 2, 'Python', [0, -1]]"
      ]
     },
     "execution_count": 76,
     "metadata": {},
     "output_type": "execute_result"
    }
   ],
   "source": [
    "[1, 2, \"Python\", [0, -1]]"
   ]
  },
  {
   "cell_type": "code",
   "execution_count": 77,
   "id": "d45b9934",
   "metadata": {},
   "outputs": [
    {
     "data": {
      "text/plain": [
       "list"
      ]
     },
     "execution_count": 77,
     "metadata": {},
     "output_type": "execute_result"
    }
   ],
   "source": [
    "type([1, 2, \"Python\"])"
   ]
  },
  {
   "cell_type": "code",
   "execution_count": 78,
   "id": "a12a47f3",
   "metadata": {},
   "outputs": [
    {
     "data": {
      "text/plain": [
       "[1, 2, 'Python', [0, -1], 'test', 'OK']"
      ]
     },
     "execution_count": 78,
     "metadata": {},
     "output_type": "execute_result"
    }
   ],
   "source": [
    "[1, 2, \"Python\", [0, -1]] + [\"test\", \"OK\"]"
   ]
  },
  {
   "cell_type": "code",
   "execution_count": 79,
   "id": "5ffbeeee",
   "metadata": {},
   "outputs": [
    {
     "data": {
      "text/plain": [
       "['test', 'OK', 'test', 'OK', 'test', 'OK']"
      ]
     },
     "execution_count": 79,
     "metadata": {},
     "output_type": "execute_result"
    }
   ],
   "source": [
    "[\"test\", \"OK\"] * 3"
   ]
  },
  {
   "cell_type": "code",
   "execution_count": 80,
   "id": "ba8c8009",
   "metadata": {},
   "outputs": [
    {
     "data": {
      "text/plain": [
       "[0, -1]"
      ]
     },
     "execution_count": 80,
     "metadata": {},
     "output_type": "execute_result"
    }
   ],
   "source": [
    "[1, 2, \"Python\", [0, -1]][-1]"
   ]
  },
  {
   "cell_type": "code",
   "execution_count": 81,
   "id": "e1d86c83",
   "metadata": {},
   "outputs": [
    {
     "data": {
      "text/plain": [
       "[['Janvier', 20], ['février', 100]]"
      ]
     },
     "execution_count": 81,
     "metadata": {},
     "output_type": "execute_result"
    }
   ],
   "source": [
    "[['Janvier', 20],\n",
    " ['février', 100]]"
   ]
  },
  {
   "cell_type": "markdown",
   "id": "1ffb47f6",
   "metadata": {},
   "source": [
    "### Le tuple\n",
    "Un tuple est une suite *ordonnée* d'éléments de tout type séparés par une virgule. Le tuple est délimité par des *parenthèses*. La différence fondamentale entre un tuple et une liste est que le premier est **non mutable** et le dernier **mutable**."
   ]
  },
  {
   "cell_type": "code",
   "execution_count": 82,
   "id": "74420abd",
   "metadata": {},
   "outputs": [
    {
     "data": {
      "text/plain": [
       "(1, 2, 3)"
      ]
     },
     "execution_count": 82,
     "metadata": {},
     "output_type": "execute_result"
    }
   ],
   "source": [
    "(1, 2, 3)"
   ]
  },
  {
   "cell_type": "code",
   "execution_count": 83,
   "id": "bf4d6859",
   "metadata": {},
   "outputs": [
    {
     "data": {
      "text/plain": [
       "tuple"
      ]
     },
     "execution_count": 83,
     "metadata": {},
     "output_type": "execute_result"
    }
   ],
   "source": [
    "type((1, 2, 3))"
   ]
  },
  {
   "cell_type": "markdown",
   "id": "51690fd3",
   "metadata": {},
   "source": [
    "### Le dictionnaire (dict)\n",
    "Un dictionnaire est une suite *non ordonnée* d'éléments de la forme **clé:valeur** séparés par une virgule. Le dict est délimité par des *accolades*. La clé est de type non mutable (int, str, tuple) et la valeur est de tout type."
   ]
  },
  {
   "cell_type": "code",
   "execution_count": 84,
   "id": "35276c3a",
   "metadata": {},
   "outputs": [
    {
     "data": {
      "text/plain": [
       "{'Janvier': 20, 'Février': 100, 'Mars': 10.5}"
      ]
     },
     "execution_count": 84,
     "metadata": {},
     "output_type": "execute_result"
    }
   ],
   "source": [
    "{'Janvier': 20,\n",
    " 'Février': 100,\n",
    " 'Mars': 10.5}"
   ]
  },
  {
   "cell_type": "code",
   "execution_count": 85,
   "id": "e66b40d3",
   "metadata": {},
   "outputs": [
    {
     "data": {
      "text/plain": [
       "dict"
      ]
     },
     "execution_count": 85,
     "metadata": {},
     "output_type": "execute_result"
    }
   ],
   "source": [
    "type({'Janvier': 20,\n",
    " 'Février': 100,\n",
    " 'Mars': 10.5})"
   ]
  },
  {
   "cell_type": "code",
   "execution_count": 86,
   "id": "68cfe890",
   "metadata": {},
   "outputs": [
    {
     "data": {
      "text/plain": [
       "20"
      ]
     },
     "execution_count": 86,
     "metadata": {},
     "output_type": "execute_result"
    }
   ],
   "source": [
    "{'Janvier': 20, 'Février': 100, 'Mars': 10.5}['Janvier']"
   ]
  },
  {
   "cell_type": "markdown",
   "id": "69445f68",
   "metadata": {},
   "source": [
    "**Personne**\n",
    "- Nom\n",
    "- Prenoms\n",
    "- Age\n",
    "- Niveau\n",
    "\n",
    "Nom : \"N'GORAN\"<br>\n",
    "Prenoms: \"Arnold\"<br>\n",
    "Age : 31<br>\n",
    "Niveau : \"PhD\"<br>"
   ]
  },
  {
   "cell_type": "code",
   "execution_count": 87,
   "id": "daadd87b",
   "metadata": {},
   "outputs": [
    {
     "data": {
      "text/plain": [
       "{'Nom': \"N'GORAN\", 'Prénoms': 'Arnold', 'Âge': 31, 'Niveau': 'PhD'}"
      ]
     },
     "execution_count": 87,
     "metadata": {},
     "output_type": "execute_result"
    }
   ],
   "source": [
    "{\"Nom\": \"N'GORAN\", \"Prénoms\": \"Arnold\", 'Âge': 31, \"Niveau\": \"PhD\"}"
   ]
  },
  {
   "cell_type": "code",
   "execution_count": 88,
   "id": "bce10406",
   "metadata": {},
   "outputs": [
    {
     "data": {
      "text/plain": [
       "31"
      ]
     },
     "execution_count": 88,
     "metadata": {},
     "output_type": "execute_result"
    }
   ],
   "source": [
    "{\"Nom\": \"N'GORAN\", \"Prénoms\": \"Arnold\", 'Âge': 31, \"Niveau\": \"PhD\"}['Âge']"
   ]
  },
  {
   "cell_type": "code",
   "execution_count": 89,
   "id": "87f16e07",
   "metadata": {},
   "outputs": [
    {
     "data": {
      "text/plain": [
       "'Arnold'"
      ]
     },
     "execution_count": 89,
     "metadata": {},
     "output_type": "execute_result"
    }
   ],
   "source": [
    "{\"Nom\": \"N'GORAN\", \"Prénoms\": \"Arnold\", 'Âge': 31, \"Niveau\": \"PhD\"}[\"Prénoms\"]"
   ]
  },
  {
   "cell_type": "code",
   "execution_count": 90,
   "id": "9ffbea3b",
   "metadata": {},
   "outputs": [
    {
     "data": {
      "text/plain": [
       "dict_keys(['Nom', 'Prénoms', 'Âge', 'Niveau'])"
      ]
     },
     "execution_count": 90,
     "metadata": {},
     "output_type": "execute_result"
    }
   ],
   "source": [
    "{\"Nom\": \"N'GORAN\", \"Prénoms\": \"Arnold\", 'Âge': 31, \"Niveau\": \"PhD\"}.keys()"
   ]
  },
  {
   "cell_type": "code",
   "execution_count": 91,
   "id": "6987ead1",
   "metadata": {},
   "outputs": [
    {
     "data": {
      "text/plain": [
       "dict_values([\"N'GORAN\", 'Arnold', 31, 'PhD'])"
      ]
     },
     "execution_count": 91,
     "metadata": {},
     "output_type": "execute_result"
    }
   ],
   "source": [
    "{\"Nom\": \"N'GORAN\", \"Prénoms\": \"Arnold\", 'Âge': 31, \"Niveau\": \"PhD\"}.values()"
   ]
  },
  {
   "cell_type": "code",
   "execution_count": 92,
   "id": "55862f63",
   "metadata": {},
   "outputs": [
    {
     "data": {
      "text/plain": [
       "dict_items([('Nom', \"N'GORAN\"), ('Prénoms', 'Arnold'), ('Âge', 31), ('Niveau', 'PhD')])"
      ]
     },
     "execution_count": 92,
     "metadata": {},
     "output_type": "execute_result"
    }
   ],
   "source": [
    "{\"Nom\": \"N'GORAN\", \"Prénoms\": \"Arnold\", 'Âge': 31, \"Niveau\": \"PhD\"}.items()"
   ]
  },
  {
   "cell_type": "markdown",
   "id": "6f769bb0",
   "metadata": {},
   "source": [
    "## Les variables et identificateurs\n",
    "Une variable est juste une **étiquette** (ou **libellé**) qu'on donne à une valeur (ou donnée).\n",
    "Une variable a un **identificateur** et une valeur.\n",
    "Un identificateur Python doit satisfaire les règles suivantes :\n",
    "- il est composé de caractères alphanumériques\n",
    "- il ne doit pas commencer par un chiffre ou par un opérateur Python\n",
    "- il ne doit pas comporter de caractères spéciaux (à l'exception de l'underscore) et d'opérateurs Python\n",
    "- il est sensible à la casse (majuscule et/ou minuscule)\n",
    "- il ne doit pas être un mot clé Python (e.g.: True , False, for, in, while, ...)"
   ]
  },
  {
   "cell_type": "markdown",
   "id": "8460988f",
   "metadata": {},
   "source": [
    "**Identificateurs valides**: nom, Nom, NOM, liste_eleve, voiture1, int2float\n",
    "\n",
    "**Identificateurs non valides**: 1nom, liste-eleve, liste/eleve, liste_élève, while, type"
   ]
  },
  {
   "cell_type": "code",
   "execution_count": 93,
   "id": "9fcff00f",
   "metadata": {},
   "outputs": [],
   "source": [
    "langage = 'Python' # Assignation ou attribution ou affectation d'une valeur à un identificateur "
   ]
  },
  {
   "cell_type": "code",
   "execution_count": 94,
   "id": "5f90973e",
   "metadata": {},
   "outputs": [
    {
     "data": {
      "text/plain": [
       "'Python'"
      ]
     },
     "execution_count": 94,
     "metadata": {},
     "output_type": "execute_result"
    }
   ],
   "source": [
    "langage"
   ]
  },
  {
   "cell_type": "code",
   "execution_count": 95,
   "id": "130e4cbe",
   "metadata": {},
   "outputs": [
    {
     "data": {
      "text/plain": [
       "'PythonPython'"
      ]
     },
     "execution_count": 95,
     "metadata": {},
     "output_type": "execute_result"
    }
   ],
   "source": [
    "langage * 2"
   ]
  },
  {
   "cell_type": "code",
   "execution_count": 96,
   "id": "af41172a",
   "metadata": {},
   "outputs": [
    {
     "data": {
      "text/plain": [
       "'P'"
      ]
     },
     "execution_count": 96,
     "metadata": {},
     "output_type": "execute_result"
    }
   ],
   "source": [
    "langage[0]"
   ]
  },
  {
   "cell_type": "markdown",
   "id": "8b1bdf2a",
   "metadata": {},
   "source": [
    "Les types `str` et `tuple` ne sont pas **mutables**, càd que les données de ces types ne sont pas *modifiables sur place*."
   ]
  },
  {
   "cell_type": "code",
   "execution_count": 97,
   "id": "eb79c4be",
   "metadata": {},
   "outputs": [
    {
     "data": {
      "text/plain": [
       "str"
      ]
     },
     "execution_count": 97,
     "metadata": {},
     "output_type": "execute_result"
    }
   ],
   "source": [
    "type(langage)"
   ]
  },
  {
   "cell_type": "code",
   "execution_count": 98,
   "id": "20b4e6be",
   "metadata": {},
   "outputs": [
    {
     "ename": "TypeError",
     "evalue": "'str' object does not support item assignment",
     "output_type": "error",
     "traceback": [
      "\u001b[0;31m---------------------------------------------------------------------------\u001b[0m",
      "\u001b[0;31mTypeError\u001b[0m                                 Traceback (most recent call last)",
      "Input \u001b[0;32mIn [98]\u001b[0m, in \u001b[0;36m<cell line: 1>\u001b[0;34m()\u001b[0m\n\u001b[0;32m----> 1\u001b[0m langage[\u001b[38;5;241m0\u001b[39m] \u001b[38;5;241m=\u001b[39m \u001b[38;5;124m'\u001b[39m\u001b[38;5;124mp\u001b[39m\u001b[38;5;124m'\u001b[39m\n",
      "\u001b[0;31mTypeError\u001b[0m: 'str' object does not support item assignment"
     ]
    }
   ],
   "source": [
    "langage[0] = 'p'"
   ]
  },
  {
   "cell_type": "code",
   "execution_count": 9,
   "id": "532bde59",
   "metadata": {},
   "outputs": [],
   "source": [
    "vect = (1, -1, 2)"
   ]
  },
  {
   "cell_type": "code",
   "execution_count": 10,
   "id": "a89b7f66",
   "metadata": {},
   "outputs": [
    {
     "ename": "TypeError",
     "evalue": "'tuple' object does not support item assignment",
     "output_type": "error",
     "traceback": [
      "\u001b[0;31m---------------------------------------------------------------------------\u001b[0m",
      "\u001b[0;31mTypeError\u001b[0m                                 Traceback (most recent call last)",
      "Input \u001b[0;32mIn [10]\u001b[0m, in \u001b[0;36m<cell line: 1>\u001b[0;34m()\u001b[0m\n\u001b[0;32m----> 1\u001b[0m vect[\u001b[38;5;241m1\u001b[39m] \u001b[38;5;241m=\u001b[39m \u001b[38;5;241m0\u001b[39m\n",
      "\u001b[0;31mTypeError\u001b[0m: 'tuple' object does not support item assignment"
     ]
    }
   ],
   "source": [
    "vect[1] = 0   # On obtient une erreur car une donnée de type tuple ne peut pas être modifiée sur place."
   ]
  },
  {
   "cell_type": "code",
   "execution_count": 12,
   "id": "94ce8734",
   "metadata": {},
   "outputs": [],
   "source": [
    "lst = [1, -1, 2]"
   ]
  },
  {
   "cell_type": "code",
   "execution_count": 13,
   "id": "957f908b",
   "metadata": {},
   "outputs": [],
   "source": [
    "lst[1] = 0"
   ]
  },
  {
   "cell_type": "code",
   "execution_count": 14,
   "id": "6a91bd7a",
   "metadata": {},
   "outputs": [
    {
     "data": {
      "text/plain": [
       "[1, 0, 2]"
      ]
     },
     "execution_count": 14,
     "metadata": {},
     "output_type": "execute_result"
    }
   ],
   "source": [
    "lst"
   ]
  },
  {
   "cell_type": "code",
   "execution_count": 15,
   "id": "af1e5b1e",
   "metadata": {},
   "outputs": [],
   "source": [
    "d = {'lang': 'Python', 'author': 'Guido Van Rossum', 'ver': '11.0'}"
   ]
  },
  {
   "cell_type": "code",
   "execution_count": 16,
   "id": "6a865c06",
   "metadata": {},
   "outputs": [
    {
     "data": {
      "text/plain": [
       "'11.0'"
      ]
     },
     "execution_count": 16,
     "metadata": {},
     "output_type": "execute_result"
    }
   ],
   "source": [
    "d['ver']"
   ]
  },
  {
   "cell_type": "code",
   "execution_count": 17,
   "id": "903fa0de",
   "metadata": {},
   "outputs": [],
   "source": [
    "d['ver'] = '10.3'"
   ]
  },
  {
   "cell_type": "code",
   "execution_count": 18,
   "id": "3028b133",
   "metadata": {},
   "outputs": [
    {
     "data": {
      "text/plain": [
       "{'lang': 'Python', 'author': 'Guido Van Rossum', 'ver': '10.3'}"
      ]
     },
     "execution_count": 18,
     "metadata": {},
     "output_type": "execute_result"
    }
   ],
   "source": [
    "d"
   ]
  },
  {
   "cell_type": "markdown",
   "id": "0fde903f",
   "metadata": {},
   "source": [
    "## Les structures de contrôle de flux\n",
    "Par défaut, l'interpréteur Python exécute le code de façon **séquentielle**, càd de haut en bas et de gauche à droite, sans faire de **sauts** ni de **répétition**.\n",
    "Les structures de contrôle de flux modifient cet état de fait. "
   ]
  },
  {
   "cell_type": "markdown",
   "id": "d0f4b738",
   "metadata": {},
   "source": [
    "### Les structures conditionnelles : la structure if\n",
    "**Syntaxe**:\n",
    "```\n",
    "if condition_1:\n",
    "    bloc_code_1\n",
    "elif condition_2:\n",
    "    bloc_code_2\n",
    "...\n",
    "else:\n",
    "    bloc_code_defaut\n",
    "```    "
   ]
  },
  {
   "cell_type": "code",
   "execution_count": 6,
   "id": "8485d71e",
   "metadata": {},
   "outputs": [
    {
     "name": "stdout",
     "output_type": "stream",
     "text": [
      "17 est un nombre impair\n"
     ]
    }
   ],
   "source": [
    "# 1er cas : x est impair\n",
    "x = 17\n",
    "if x == 0:\n",
    "    print(x, 'est un nombre nul')\n",
    "elif x % 2 == 0:\n",
    "    print(x, 'est un nombre pair')\n",
    "else:\n",
    "    print(x, 'est un nombre impair')"
   ]
  },
  {
   "cell_type": "code",
   "execution_count": 7,
   "id": "ced788f3",
   "metadata": {},
   "outputs": [
    {
     "name": "stdout",
     "output_type": "stream",
     "text": [
      "20 est un nombre pair\n"
     ]
    }
   ],
   "source": [
    "# 2ème cas : x est pair\n",
    "x = 20\n",
    "if x == 0:\n",
    "    print(x, 'est un nombre nul')\n",
    "elif x % 2 == 0:\n",
    "    print(x, 'est un nombre pair')\n",
    "else:\n",
    "    print(x, 'est un nombre impair')"
   ]
  },
  {
   "cell_type": "code",
   "execution_count": 8,
   "id": "36dacc49",
   "metadata": {},
   "outputs": [
    {
     "name": "stdout",
     "output_type": "stream",
     "text": [
      "0 est un nombre nul\n"
     ]
    }
   ],
   "source": [
    "# Dernier cas : x est nul\n",
    "x = 0\n",
    "if x == 0:\n",
    "    print(x, 'est un nombre nul')\n",
    "elif x % 2 == 0:\n",
    "    print(x, 'est un nombre pair')\n",
    "else:\n",
    "    print(x, 'est un nombre impair')"
   ]
  },
  {
   "cell_type": "markdown",
   "id": "4c31899f",
   "metadata": {},
   "source": [
    "### Les boucles\n",
    "Une boucle permet de répéter l'exécution d'un code un certain nombre de fois."
   ]
  },
  {
   "cell_type": "markdown",
   "id": "65b10256",
   "metadata": {},
   "source": [
    "### La boucle for\n",
    "**Syntaxe**:\n",
    "```\n",
    "for [variable] in [sequence]:\n",
    "    bloc_code\n",
    "```\n",
    "- **`[variable]`** est une variable quelconque qui prend sucessivement des valeurs dans [sequence].\n",
    "- **`[sequence]`** est une suite d'éléments (str, list, tuple, ...)"
   ]
  },
  {
   "cell_type": "code",
   "execution_count": 24,
   "id": "75817df3",
   "metadata": {},
   "outputs": [
    {
     "name": "stdout",
     "output_type": "stream",
     "text": [
      "1\n",
      "2\n",
      "3\n"
     ]
    }
   ],
   "source": [
    "for i in [1, 2, 3]:\n",
    "    print(i)"
   ]
  },
  {
   "cell_type": "code",
   "execution_count": 28,
   "id": "ae8827ae",
   "metadata": {},
   "outputs": [
    {
     "name": "stdout",
     "output_type": "stream",
     "text": [
      "0 : P\n",
      "1 : y\n",
      "2 : t\n",
      "3 : h\n",
      "4 : o\n",
      "5 : n\n",
      "6 :  \n",
      "7 : e\n",
      "8 : s\n",
      "9 : t\n",
      "10 :  \n",
      "11 : u\n",
      "12 : n\n",
      "13 :  \n",
      "14 : l\n",
      "15 : a\n",
      "16 : n\n",
      "17 : g\n",
      "18 : a\n",
      "19 : g\n",
      "20 : e\n"
     ]
    }
   ],
   "source": [
    "s = 'Python est un langage'\n",
    "pos = 0\n",
    "for c in s:\n",
    "    print(pos, ':', c)\n",
    "    pos = pos + 1"
   ]
  },
  {
   "cell_type": "code",
   "execution_count": 30,
   "id": "c599ffa2",
   "metadata": {},
   "outputs": [
    {
     "name": "stdout",
     "output_type": "stream",
     "text": [
      "10 :  \n",
      "11 : u\n",
      "12 : n\n",
      "13 :  \n",
      "14 : l\n",
      "15 : a\n",
      "16 : n\n",
      "17 : g\n",
      "18 : a\n",
      "19 : g\n",
      "20 : e\n"
     ]
    }
   ],
   "source": [
    "pos = 0\n",
    "depart = 10\n",
    "for c in s:\n",
    "    if pos >= depart:\n",
    "        print(pos, ':', c)\n",
    "    pos = pos + 1"
   ]
  },
  {
   "cell_type": "markdown",
   "id": "9045c5a2",
   "metadata": {},
   "source": [
    "### La boucle while\n",
    "**Syntaxe**:\n",
    "```\n",
    "while [condition]:\n",
    "    bloc_code\n",
    "```"
   ]
  },
  {
   "cell_type": "code",
   "execution_count": 32,
   "id": "5e5cbe62",
   "metadata": {},
   "outputs": [],
   "source": [
    "# boucle infinie\n",
    "#while True:\n",
    "#    print(1)"
   ]
  },
  {
   "cell_type": "code",
   "execution_count": 33,
   "id": "8baf656a",
   "metadata": {},
   "outputs": [
    {
     "name": "stdout",
     "output_type": "stream",
     "text": [
      "5\n",
      "6\n",
      "7\n",
      "8\n"
     ]
    }
   ],
   "source": [
    "n = 5\n",
    "while n <= 8:\n",
    "    print(n)\n",
    "    n = n + 1"
   ]
  },
  {
   "cell_type": "code",
   "execution_count": null,
   "id": "dea021d0",
   "metadata": {},
   "outputs": [],
   "source": [
    "for i in [1, 2, 3]:\n",
    "    print(i)"
   ]
  },
  {
   "cell_type": "code",
   "execution_count": 36,
   "id": "10d51689",
   "metadata": {},
   "outputs": [
    {
     "name": "stdout",
     "output_type": "stream",
     "text": [
      "a\n",
      "z\n",
      "b\n"
     ]
    }
   ],
   "source": [
    "lst = [\"a\", \"z\", \"b\"]\n",
    "n = len(lst)\n",
    "pos = 0\n",
    "while pos < n:\n",
    "    print(lst[pos])\n",
    "    pos += 1"
   ]
  },
  {
   "cell_type": "code",
   "execution_count": 37,
   "id": "24b13c20",
   "metadata": {},
   "outputs": [
    {
     "name": "stdout",
     "output_type": "stream",
     "text": [
      "0 : a\n",
      "1 : z\n",
      "2 : b\n"
     ]
    }
   ],
   "source": [
    "lst = [\"a\", \"z\", \"b\"]\n",
    "n = len(lst)\n",
    "pos = 0\n",
    "while pos < n:\n",
    "    print(pos, ':', lst[pos])\n",
    "    pos += 1"
   ]
  },
  {
   "cell_type": "code",
   "execution_count": 40,
   "id": "55887002",
   "metadata": {},
   "outputs": [
    {
     "data": {
      "text/plain": [
       "[(0, 'a'), (1, 'z'), (2, 'x')]"
      ]
     },
     "execution_count": 40,
     "metadata": {},
     "output_type": "execute_result"
    }
   ],
   "source": [
    "list(enumerate([\"a\", \"z\", \"x\"]))  # retourne un générateur"
   ]
  },
  {
   "cell_type": "code",
   "execution_count": 42,
   "id": "52fa7d9a",
   "metadata": {},
   "outputs": [
    {
     "name": "stdout",
     "output_type": "stream",
     "text": [
      "(0, 'a')\n",
      "(1, 'z')\n",
      "(2, 'x')\n"
     ]
    }
   ],
   "source": [
    "for i in enumerate([\"a\", \"z\", \"x\"]):\n",
    "    print(i)"
   ]
  },
  {
   "cell_type": "code",
   "execution_count": 45,
   "id": "86f99725",
   "metadata": {},
   "outputs": [],
   "source": [
    "x, y = (1, 2)  # dépaquetage"
   ]
  },
  {
   "cell_type": "code",
   "execution_count": 44,
   "id": "467f6ca4",
   "metadata": {},
   "outputs": [
    {
     "name": "stdout",
     "output_type": "stream",
     "text": [
      "1\n",
      "2\n"
     ]
    }
   ],
   "source": [
    "print(x)\n",
    "print(y)"
   ]
  },
  {
   "cell_type": "code",
   "execution_count": 46,
   "id": "22b05798",
   "metadata": {},
   "outputs": [
    {
     "name": "stdout",
     "output_type": "stream",
     "text": [
      "0 : a\n",
      "1 : z\n",
      "2 : x\n"
     ]
    }
   ],
   "source": [
    "for idx, val in enumerate([\"a\", \"z\", \"x\"]):\n",
    "    print(idx, ':', val)"
   ]
  },
  {
   "cell_type": "code",
   "execution_count": 48,
   "id": "f340d95a",
   "metadata": {},
   "outputs": [
    {
     "name": "stdout",
     "output_type": "stream",
     "text": [
      "zero : 0\n",
      "un : 1\n",
      "deux : 2\n",
      "trois : 3\n"
     ]
    }
   ],
   "source": [
    "lst_lettres = [\"zero\", \"un\", 'deux', 'trois']\n",
    "lst_chiffres = [0, 1, 2, 3, 4, 5, 6]\n",
    "for l, c in zip(lst_lettres, lst_chiffres):\n",
    "    print(l, ':', c)"
   ]
  },
  {
   "cell_type": "code",
   "execution_count": 50,
   "id": "40525137",
   "metadata": {},
   "outputs": [
    {
     "data": {
      "text/plain": [
       "[0, 1, 2, 3, 4]"
      ]
     },
     "execution_count": 50,
     "metadata": {},
     "output_type": "execute_result"
    }
   ],
   "source": [
    "list(range(5))"
   ]
  },
  {
   "cell_type": "code",
   "execution_count": 51,
   "id": "f980f943",
   "metadata": {},
   "outputs": [
    {
     "data": {
      "text/plain": [
       "[2, 3, 4]"
      ]
     },
     "execution_count": 51,
     "metadata": {},
     "output_type": "execute_result"
    }
   ],
   "source": [
    "list(range(2, 5))"
   ]
  },
  {
   "cell_type": "code",
   "execution_count": 52,
   "id": "a60ca012",
   "metadata": {},
   "outputs": [
    {
     "data": {
      "text/plain": [
       "[3, 5, 7, 9]"
      ]
     },
     "execution_count": 52,
     "metadata": {},
     "output_type": "execute_result"
    }
   ],
   "source": [
    "list(range(3, 10, 2))"
   ]
  },
  {
   "cell_type": "code",
   "execution_count": 53,
   "id": "5f6c297b",
   "metadata": {},
   "outputs": [
    {
     "name": "stdout",
     "output_type": "stream",
     "text": [
      "0\n",
      "1\n",
      "2\n",
      "3\n",
      "4\n"
     ]
    }
   ],
   "source": [
    "for i in range(5):\n",
    "    print(i)"
   ]
  },
  {
   "cell_type": "markdown",
   "id": "d51e281b",
   "metadata": {},
   "source": [
    "## Les fonctions\n",
    "Les fonctions Python sont un peu comme les fonctions mathématiques : *Elles ont un nom, prennent des paramètres (ou variables) entre parenthèses, et retournent une valeur*. Contrairement aux fonctions mathématiques, les fonctions Python peuvent ne pas prendre de paramètres, et ne pas retourner de valeurs.\n",
    "\n",
    "Les fonctions constituent une structure très importante en programmation. Ce sont une **abstraction** des langages, en ce sens qu'elles permettent d'identifier un bloc de code par un nom, et utiliser ce nom autant de fois qu'on veut, et obtenir des résultats différents selon les paramètres qu'on passe à la fonction.\n",
    "\n",
    "**Syntaxe**:\n",
    "\n",
    "**définition de la fonction:**\n",
    "```\n",
    "def [nom_de_la_fonction](param_1, param_2, ...):\n",
    "    bloc_code\n",
    "    [return [variable]]\n",
    "```\n",
    "\n",
    "**appel de la fonction:**\n",
    "```\n",
    "nom_de_la_fonction(arg_1, arg_2, ...)\n",
    "```"
   ]
  },
  {
   "cell_type": "code",
   "execution_count": 54,
   "id": "3babc50c",
   "metadata": {},
   "outputs": [],
   "source": [
    "# Définition de la fonction\n",
    "def somme2(a, b):\n",
    "    return a + b"
   ]
  },
  {
   "cell_type": "code",
   "execution_count": 55,
   "id": "f96fcf2d",
   "metadata": {},
   "outputs": [
    {
     "data": {
      "text/plain": [
       "0"
      ]
     },
     "execution_count": 55,
     "metadata": {},
     "output_type": "execute_result"
    }
   ],
   "source": [
    "# Appel de la fonction\n",
    "somme2(1, -1)"
   ]
  },
  {
   "cell_type": "code",
   "execution_count": 56,
   "id": "89d3d460",
   "metadata": {},
   "outputs": [],
   "source": [
    "def afficher(x):\n",
    "    print(x)"
   ]
  },
  {
   "cell_type": "code",
   "execution_count": 57,
   "id": "53926ab5",
   "metadata": {},
   "outputs": [
    {
     "name": "stdout",
     "output_type": "stream",
     "text": [
      "10\n"
     ]
    }
   ],
   "source": [
    "afficher(10)"
   ]
  },
  {
   "cell_type": "code",
   "execution_count": 58,
   "id": "bc065622",
   "metadata": {},
   "outputs": [
    {
     "name": "stdout",
     "output_type": "stream",
     "text": [
      "Python est un langage\n"
     ]
    }
   ],
   "source": [
    "afficher('Python est un langage')"
   ]
  },
  {
   "cell_type": "code",
   "execution_count": 59,
   "id": "bdaaa8f6",
   "metadata": {},
   "outputs": [
    {
     "name": "stdout",
     "output_type": "stream",
     "text": [
      "Python\n"
     ]
    }
   ],
   "source": [
    "x = afficher('Python')"
   ]
  },
  {
   "cell_type": "code",
   "execution_count": 60,
   "id": "27e88b67",
   "metadata": {},
   "outputs": [],
   "source": [
    "x"
   ]
  },
  {
   "cell_type": "code",
   "execution_count": 61,
   "id": "d6135e40",
   "metadata": {},
   "outputs": [
    {
     "data": {
      "text/plain": [
       "NoneType"
      ]
     },
     "execution_count": 61,
     "metadata": {},
     "output_type": "execute_result"
    }
   ],
   "source": [
    "type(x)"
   ]
  },
  {
   "cell_type": "code",
   "execution_count": 62,
   "id": "20d53518",
   "metadata": {},
   "outputs": [],
   "source": [
    "y = somme2(10, 15)"
   ]
  },
  {
   "cell_type": "code",
   "execution_count": 63,
   "id": "ce3e133f",
   "metadata": {},
   "outputs": [
    {
     "data": {
      "text/plain": [
       "25"
      ]
     },
     "execution_count": 63,
     "metadata": {},
     "output_type": "execute_result"
    }
   ],
   "source": [
    "y"
   ]
  },
  {
   "cell_type": "code",
   "execution_count": 64,
   "id": "68bb55c6",
   "metadata": {},
   "outputs": [
    {
     "data": {
      "text/plain": [
       "int"
      ]
     },
     "execution_count": 64,
     "metadata": {},
     "output_type": "execute_result"
    }
   ],
   "source": [
    "type(25)"
   ]
  },
  {
   "cell_type": "code",
   "execution_count": 65,
   "id": "fb98d149",
   "metadata": {},
   "outputs": [],
   "source": [
    "def zero_param():\n",
    "    return True"
   ]
  },
  {
   "cell_type": "code",
   "execution_count": 66,
   "id": "8840e33b",
   "metadata": {},
   "outputs": [
    {
     "data": {
      "text/plain": [
       "True"
      ]
     },
     "execution_count": 66,
     "metadata": {},
     "output_type": "execute_result"
    }
   ],
   "source": [
    "zero_param()"
   ]
  },
  {
   "cell_type": "markdown",
   "id": "4cf68035",
   "metadata": {},
   "source": [
    "**La fonction factorielle**\n",
    "$$n! = 1\\times 2\\times 3\\times \\cdots \\times n$$\n",
    "$$0! = 1$$"
   ]
  },
  {
   "cell_type": "code",
   "execution_count": 67,
   "id": "958601ec",
   "metadata": {},
   "outputs": [],
   "source": [
    "def factorielle(n):\n",
    "    if n == 0:\n",
    "        facto = 1\n",
    "    else:\n",
    "        facto = 1\n",
    "        for i in range(1, n+1): # => [1, 2, 3, ..., n]\n",
    "            facto = facto * i\n",
    "    return facto"
   ]
  },
  {
   "cell_type": "code",
   "execution_count": 68,
   "id": "c0a66d0c",
   "metadata": {},
   "outputs": [
    {
     "data": {
      "text/plain": [
       "1"
      ]
     },
     "execution_count": 68,
     "metadata": {},
     "output_type": "execute_result"
    }
   ],
   "source": [
    "factorielle(0)"
   ]
  },
  {
   "cell_type": "code",
   "execution_count": 69,
   "id": "ffaea8ba",
   "metadata": {},
   "outputs": [
    {
     "data": {
      "text/plain": [
       "1"
      ]
     },
     "execution_count": 69,
     "metadata": {},
     "output_type": "execute_result"
    }
   ],
   "source": [
    "factorielle(1)"
   ]
  },
  {
   "cell_type": "code",
   "execution_count": 70,
   "id": "8d2051d9",
   "metadata": {},
   "outputs": [
    {
     "data": {
      "text/plain": [
       "120"
      ]
     },
     "execution_count": 70,
     "metadata": {},
     "output_type": "execute_result"
    }
   ],
   "source": [
    "factorielle(5)"
   ]
  },
  {
   "cell_type": "code",
   "execution_count": 71,
   "id": "1c602614",
   "metadata": {},
   "outputs": [
    {
     "data": {
      "text/plain": [
       "720"
      ]
     },
     "execution_count": 71,
     "metadata": {},
     "output_type": "execute_result"
    }
   ],
   "source": [
    "factorielle(6)"
   ]
  },
  {
   "cell_type": "code",
   "execution_count": 72,
   "id": "c5c5ef11",
   "metadata": {},
   "outputs": [
    {
     "data": {
      "text/plain": [
       "3628800"
      ]
     },
     "execution_count": 72,
     "metadata": {},
     "output_type": "execute_result"
    }
   ],
   "source": [
    "factorielle(10)"
   ]
  },
  {
   "cell_type": "code",
   "execution_count": 73,
   "id": "f0634831",
   "metadata": {},
   "outputs": [
    {
     "data": {
      "text/plain": [
       "93326215443944152681699238856266700490715968264381621468592963895217599993229915608941463976156518286253697920827223758251185210916864000000000000000000000000"
      ]
     },
     "execution_count": 73,
     "metadata": {},
     "output_type": "execute_result"
    }
   ],
   "source": [
    "factorielle(100)"
   ]
  },
  {
   "cell_type": "markdown",
   "id": "8c7270f7",
   "metadata": {},
   "source": [
    "**La fonction combinaison de p dans n**\n",
    "$$C_{n}^p = \\frac{n!}{p!(n-p)!}$$"
   ]
  },
  {
   "cell_type": "code",
   "execution_count": 74,
   "id": "39360764",
   "metadata": {},
   "outputs": [],
   "source": [
    "def combinaison(n, p):\n",
    "    return factorielle(n) / (factorielle(p) * factorielle(n-p))"
   ]
  },
  {
   "cell_type": "code",
   "execution_count": 75,
   "id": "4420add2",
   "metadata": {},
   "outputs": [
    {
     "data": {
      "text/plain": [
       "6.0"
      ]
     },
     "execution_count": 75,
     "metadata": {},
     "output_type": "execute_result"
    }
   ],
   "source": [
    "combinaison(4, 2)"
   ]
  },
  {
   "cell_type": "code",
   "execution_count": 76,
   "id": "bef32cfd",
   "metadata": {},
   "outputs": [
    {
     "data": {
      "text/plain": [
       "3.0"
      ]
     },
     "execution_count": 76,
     "metadata": {},
     "output_type": "execute_result"
    }
   ],
   "source": [
    "combinaison(3, 2)"
   ]
  },
  {
   "cell_type": "code",
   "execution_count": 77,
   "id": "37675a93",
   "metadata": {},
   "outputs": [
    {
     "data": {
      "text/plain": [
       "1.0"
      ]
     },
     "execution_count": 77,
     "metadata": {},
     "output_type": "execute_result"
    }
   ],
   "source": [
    "combinaison(3, 0)"
   ]
  },
  {
   "cell_type": "markdown",
   "id": "26554f27",
   "metadata": {},
   "source": [
    "**Détermination des racines d'une fonction du 2nd degré**\n",
    "\n",
    "$$f(x) = ax^2 + bx + c\\ \\ (a\\neq 0)$$\n",
    "\n",
    "Discriminant : $\\Delta = b^2 - 4ac$\n",
    "- Si $\\Delta < 0$, $f(x)$ n'admet pas de racines.\n",
    "- Si $\\Delta > 0$, $f(x)$ admet deux racines distinctes :\n",
    "$$x_1 = \\frac{-b-\\sqrt{\\Delta}}{2a}$$\n",
    "$$x_2 = \\frac{-b+\\sqrt{\\Delta}}{2a}$$\n",
    "- Si $\\Delta = 0$, $f(x)$ admet une racine double :\n",
    "$$x_0 = \\frac{-b}{2a}$$"
   ]
  },
  {
   "cell_type": "code",
   "execution_count": 80,
   "id": "953ca111",
   "metadata": {},
   "outputs": [],
   "source": [
    "def racines2nddegre(a, b, c):\n",
    "    from math import sqrt\n",
    "    delta = b**2 - 4 * a * c\n",
    "    if delta < 0:\n",
    "        print('La fonction {0}x^2 + {1}x + {2} n\\'admet pas de racines'.format(a, b, c))\n",
    "    elif delta > 0:\n",
    "        x_1 = (-b - sqrt(delta)) / (2 * a)\n",
    "        x_2 = (-b + sqrt(delta)) / (2 * a)\n",
    "        print('La fonction {0}x^2 + {1}x + {2} admet deux racines disctinctes :'.format(a, b, c))\n",
    "        print('--------')\n",
    "        print('x_1 =', x_1)\n",
    "        print('x_2 =', x_2)\n",
    "        return (x_1, x_2)\n",
    "    else:\n",
    "        x_0 = -b / (2 * a)\n",
    "        print('La fonction {0}x^2 + {1}x + {2} admet une racine double :'.format(a, b, c))\n",
    "        print('--------')\n",
    "        print('x_0 =', x_0)\n",
    "        return x_0"
   ]
  },
  {
   "cell_type": "code",
   "execution_count": 81,
   "id": "8fdfebe9",
   "metadata": {},
   "outputs": [
    {
     "name": "stdout",
     "output_type": "stream",
     "text": [
      "La fonction 2x^2 + -1x + -6 admet deux racines disctinctes :\n",
      "--------\n",
      "x_1 = -1.5\n",
      "x_2 = 2.0\n"
     ]
    },
    {
     "data": {
      "text/plain": [
       "(-1.5, 2.0)"
      ]
     },
     "execution_count": 81,
     "metadata": {},
     "output_type": "execute_result"
    }
   ],
   "source": [
    "racines2nddegre(2, -1, -6) # x_1 = -1.5, x_2 = 2"
   ]
  },
  {
   "cell_type": "code",
   "execution_count": 82,
   "id": "c1efb46b",
   "metadata": {},
   "outputs": [
    {
     "name": "stdout",
     "output_type": "stream",
     "text": [
      "La fonction 2x^2 + -3x + 1.125 admet une racine double :\n",
      "--------\n",
      "x_0 = 0.75\n"
     ]
    },
    {
     "data": {
      "text/plain": [
       "0.75"
      ]
     },
     "execution_count": 82,
     "metadata": {},
     "output_type": "execute_result"
    }
   ],
   "source": [
    "racines2nddegre(2, -3, 9/8) # x_0 = 3/4 = 0.75"
   ]
  },
  {
   "cell_type": "code",
   "execution_count": 83,
   "id": "df2acf6a",
   "metadata": {},
   "outputs": [
    {
     "name": "stdout",
     "output_type": "stream",
     "text": [
      "La fonction 1x^2 + 1x + 1 n'admet pas de racines\n"
     ]
    }
   ],
   "source": [
    "racines2nddegre(1, 1, 1) # aucune racine"
   ]
  },
  {
   "cell_type": "code",
   "execution_count": 84,
   "id": "87a5f904",
   "metadata": {},
   "outputs": [],
   "source": [
    "def somme_liste(lst):\n",
    "    # Retourne la somme des éléments de la liste\n",
    "    # passée en argument\n",
    "    somme = 0\n",
    "    for elt in lst:\n",
    "        somme += elt\n",
    "    return somme"
   ]
  },
  {
   "cell_type": "code",
   "execution_count": 85,
   "id": "92912b18",
   "metadata": {},
   "outputs": [],
   "source": [
    "lst = [12, -1, 5, 3, 0, 20, 31, 40, 8]"
   ]
  },
  {
   "cell_type": "code",
   "execution_count": 86,
   "id": "c11494b4",
   "metadata": {},
   "outputs": [
    {
     "data": {
      "text/plain": [
       "118"
      ]
     },
     "execution_count": 86,
     "metadata": {},
     "output_type": "execute_result"
    }
   ],
   "source": [
    "sum(lst)"
   ]
  },
  {
   "cell_type": "code",
   "execution_count": 87,
   "id": "469b8aa7",
   "metadata": {},
   "outputs": [
    {
     "data": {
      "text/plain": [
       "118"
      ]
     },
     "execution_count": 87,
     "metadata": {},
     "output_type": "execute_result"
    }
   ],
   "source": [
    "somme_liste(lst)"
   ]
  },
  {
   "cell_type": "code",
   "execution_count": 88,
   "id": "d8f5322b",
   "metadata": {},
   "outputs": [],
   "source": [
    "def moy_liste(lst):\n",
    "    return somme_liste(lst) / len(lst)"
   ]
  },
  {
   "cell_type": "code",
   "execution_count": 89,
   "id": "6071c81f",
   "metadata": {},
   "outputs": [
    {
     "data": {
      "text/plain": [
       "13.11111111111111"
      ]
     },
     "execution_count": 89,
     "metadata": {},
     "output_type": "execute_result"
    }
   ],
   "source": [
    "moy_liste(lst)"
   ]
  },
  {
   "cell_type": "code",
   "execution_count": 90,
   "id": "e6d43207",
   "metadata": {},
   "outputs": [],
   "source": [
    "def somme3(a, b=0):\n",
    "    return a + b"
   ]
  },
  {
   "cell_type": "code",
   "execution_count": 91,
   "id": "9b6111ef",
   "metadata": {},
   "outputs": [
    {
     "data": {
      "text/plain": [
       "3"
      ]
     },
     "execution_count": 91,
     "metadata": {},
     "output_type": "execute_result"
    }
   ],
   "source": [
    "somme3(1, 2)"
   ]
  },
  {
   "cell_type": "code",
   "execution_count": 92,
   "id": "1c4f7c7b",
   "metadata": {},
   "outputs": [
    {
     "data": {
      "text/plain": [
       "1"
      ]
     },
     "execution_count": 92,
     "metadata": {},
     "output_type": "execute_result"
    }
   ],
   "source": [
    "somme3(1)"
   ]
  },
  {
   "cell_type": "code",
   "execution_count": 94,
   "id": "7d9ec3c9",
   "metadata": {},
   "outputs": [
    {
     "data": {
      "text/plain": [
       "3"
      ]
     },
     "execution_count": 94,
     "metadata": {},
     "output_type": "execute_result"
    }
   ],
   "source": [
    "somme2(1, 2)"
   ]
  },
  {
   "cell_type": "markdown",
   "id": "3282476e",
   "metadata": {},
   "source": [
    "## Le calcul scientifique"
   ]
  },
  {
   "cell_type": "markdown",
   "id": "9536a979",
   "metadata": {},
   "source": [
    "### Le module numpy\n",
    "**numpy** est un module qui permet de faire de l'algèbre linéaire (manipulation de matrices et des tables multidimensionnelles)"
   ]
  },
  {
   "cell_type": "code",
   "execution_count": 97,
   "id": "c5ecebfa",
   "metadata": {},
   "outputs": [],
   "source": [
    "import numpy as np  # pip install numpy"
   ]
  },
  {
   "cell_type": "code",
   "execution_count": 98,
   "id": "7649d24e",
   "metadata": {},
   "outputs": [],
   "source": [
    "v = np.array([1, 3, 2])"
   ]
  },
  {
   "cell_type": "code",
   "execution_count": 99,
   "id": "a410fb65",
   "metadata": {},
   "outputs": [
    {
     "data": {
      "text/plain": [
       "array([1, 3, 2])"
      ]
     },
     "execution_count": 99,
     "metadata": {},
     "output_type": "execute_result"
    }
   ],
   "source": [
    "v"
   ]
  },
  {
   "cell_type": "code",
   "execution_count": 100,
   "id": "31b5f0ad",
   "metadata": {},
   "outputs": [
    {
     "data": {
      "text/plain": [
       "numpy.ndarray"
      ]
     },
     "execution_count": 100,
     "metadata": {},
     "output_type": "execute_result"
    }
   ],
   "source": [
    "type(v)  # N dimensional array"
   ]
  },
  {
   "cell_type": "code",
   "execution_count": 101,
   "id": "3ba74699",
   "metadata": {},
   "outputs": [
    {
     "data": {
      "text/plain": [
       "(3,)"
      ]
     },
     "execution_count": 101,
     "metadata": {},
     "output_type": "execute_result"
    }
   ],
   "source": [
    "v.shape"
   ]
  },
  {
   "cell_type": "code",
   "execution_count": 102,
   "id": "7da19e00",
   "metadata": {},
   "outputs": [],
   "source": [
    "mat = np.array([[1, 3, 2],\n",
    "                [0, -1, 5],\n",
    "                [2, 1, 4]])"
   ]
  },
  {
   "cell_type": "code",
   "execution_count": 103,
   "id": "385cbc1d",
   "metadata": {},
   "outputs": [
    {
     "data": {
      "text/plain": [
       "numpy.ndarray"
      ]
     },
     "execution_count": 103,
     "metadata": {},
     "output_type": "execute_result"
    }
   ],
   "source": [
    "type(mat)"
   ]
  },
  {
   "cell_type": "code",
   "execution_count": 104,
   "id": "471651d2",
   "metadata": {},
   "outputs": [
    {
     "data": {
      "text/plain": [
       "(3, 3)"
      ]
     },
     "execution_count": 104,
     "metadata": {},
     "output_type": "execute_result"
    }
   ],
   "source": [
    "mat.shape"
   ]
  },
  {
   "cell_type": "code",
   "execution_count": 106,
   "id": "3174d594",
   "metadata": {},
   "outputs": [
    {
     "data": {
      "text/plain": [
       "array([[1., 1., 1., 1., 1.],\n",
       "       [1., 1., 1., 1., 1.],\n",
       "       [1., 1., 1., 1., 1.]])"
      ]
     },
     "execution_count": 106,
     "metadata": {},
     "output_type": "execute_result"
    }
   ],
   "source": [
    "np.ones([3, 5])  # génération d'une matrice composée de 1"
   ]
  },
  {
   "cell_type": "code",
   "execution_count": 107,
   "id": "6ff56e42",
   "metadata": {},
   "outputs": [
    {
     "data": {
      "text/plain": [
       "array([[0., 0., 0., 0., 0.],\n",
       "       [0., 0., 0., 0., 0.],\n",
       "       [0., 0., 0., 0., 0.]])"
      ]
     },
     "execution_count": 107,
     "metadata": {},
     "output_type": "execute_result"
    }
   ],
   "source": [
    "np.zeros([3, 5]) # génération d'une matrice nulle"
   ]
  },
  {
   "cell_type": "code",
   "execution_count": 110,
   "id": "c305eccc",
   "metadata": {},
   "outputs": [],
   "source": [
    "id_3 = np.eye(3) # génération d'une matrice identité"
   ]
  },
  {
   "cell_type": "code",
   "execution_count": 113,
   "id": "8256c580",
   "metadata": {},
   "outputs": [
    {
     "data": {
      "text/plain": [
       "array([[ 1,  3,  2],\n",
       "       [ 0, -1,  5],\n",
       "       [ 2,  1,  4]])"
      ]
     },
     "execution_count": 113,
     "metadata": {},
     "output_type": "execute_result"
    }
   ],
   "source": [
    "mat"
   ]
  },
  {
   "cell_type": "code",
   "execution_count": 114,
   "id": "926639d3",
   "metadata": {},
   "outputs": [
    {
     "data": {
      "text/plain": [
       "array([[1., 0., 0.],\n",
       "       [0., 1., 0.],\n",
       "       [0., 0., 1.]])"
      ]
     },
     "execution_count": 114,
     "metadata": {},
     "output_type": "execute_result"
    }
   ],
   "source": [
    "id_3"
   ]
  },
  {
   "cell_type": "code",
   "execution_count": 112,
   "id": "e029f55e",
   "metadata": {},
   "outputs": [
    {
     "data": {
      "text/plain": [
       "array([[ 1.,  0.,  0.],\n",
       "       [ 0., -1.,  0.],\n",
       "       [ 0.,  0.,  4.]])"
      ]
     },
     "execution_count": 112,
     "metadata": {},
     "output_type": "execute_result"
    }
   ],
   "source": [
    "mat * id_3  # produit de matrices composante par composante de même index"
   ]
  },
  {
   "cell_type": "code",
   "execution_count": 115,
   "id": "f16674a4",
   "metadata": {},
   "outputs": [
    {
     "data": {
      "text/plain": [
       "array([[ 1.,  3.,  2.],\n",
       "       [ 0., -1.,  5.],\n",
       "       [ 2.,  1.,  4.]])"
      ]
     },
     "execution_count": 115,
     "metadata": {},
     "output_type": "execute_result"
    }
   ],
   "source": [
    "np.matmul(mat, id_3)   # produit matriciel"
   ]
  },
  {
   "cell_type": "code",
   "execution_count": 119,
   "id": "29a65416",
   "metadata": {},
   "outputs": [
    {
     "data": {
      "text/plain": [
       "19"
      ]
     },
     "execution_count": 119,
     "metadata": {},
     "output_type": "execute_result"
    }
   ],
   "source": [
    "# produit scalaire de 2 vecteurs x = [x1, x2, ..., xN] et y = [y1, y2, ..., yN]\n",
    "# x1 * y1 + x2 * y2 + ... + xN * yN\n",
    "x = np.array([1, 2, 0, 5])\n",
    "y = np.array([-1, 5, 0, 2])\n",
    "np.dot(x, y)"
   ]
  },
  {
   "cell_type": "code",
   "execution_count": 120,
   "id": "51c6deb7",
   "metadata": {},
   "outputs": [
    {
     "data": {
      "text/plain": [
       "array([-1, 10,  0, 10])"
      ]
     },
     "execution_count": 120,
     "metadata": {},
     "output_type": "execute_result"
    }
   ],
   "source": [
    "x * y"
   ]
  },
  {
   "cell_type": "markdown",
   "id": "3f85fd2c",
   "metadata": {},
   "source": [
    "### Le module pandas\n",
    "**Pandas** est un module développé au-dessus de Numpy. La structure de base de pandas est la `DataFrame` (ou table de données). Pandas est né de la volonté d'émuler les tableurs (type Excel et OpenOffice) dans Python.\n",
    "\n",
    "Une dataframe est un array avec des *étiquettes* pour les colonnes et des *index* pour les lignes."
   ]
  },
  {
   "cell_type": "code",
   "execution_count": 121,
   "id": "b4ca7564",
   "metadata": {},
   "outputs": [],
   "source": [
    "import pandas as pd"
   ]
  },
  {
   "cell_type": "code",
   "execution_count": 122,
   "id": "736465d7",
   "metadata": {},
   "outputs": [],
   "source": [
    "df = pd.DataFrame({'langages': ['Python', 'C', 'JavaScript', 'Lisp'],\n",
    "                  'ver': ['10.3', '15', '6', '2']})"
   ]
  },
  {
   "cell_type": "code",
   "execution_count": 123,
   "id": "be7c6b8d",
   "metadata": {},
   "outputs": [
    {
     "data": {
      "text/html": [
       "<div>\n",
       "<style scoped>\n",
       "    .dataframe tbody tr th:only-of-type {\n",
       "        vertical-align: middle;\n",
       "    }\n",
       "\n",
       "    .dataframe tbody tr th {\n",
       "        vertical-align: top;\n",
       "    }\n",
       "\n",
       "    .dataframe thead th {\n",
       "        text-align: right;\n",
       "    }\n",
       "</style>\n",
       "<table border=\"1\" class=\"dataframe\">\n",
       "  <thead>\n",
       "    <tr style=\"text-align: right;\">\n",
       "      <th></th>\n",
       "      <th>langages</th>\n",
       "      <th>ver</th>\n",
       "    </tr>\n",
       "  </thead>\n",
       "  <tbody>\n",
       "    <tr>\n",
       "      <th>0</th>\n",
       "      <td>Python</td>\n",
       "      <td>10.3</td>\n",
       "    </tr>\n",
       "    <tr>\n",
       "      <th>1</th>\n",
       "      <td>C</td>\n",
       "      <td>15</td>\n",
       "    </tr>\n",
       "    <tr>\n",
       "      <th>2</th>\n",
       "      <td>JavaScript</td>\n",
       "      <td>6</td>\n",
       "    </tr>\n",
       "    <tr>\n",
       "      <th>3</th>\n",
       "      <td>Lisp</td>\n",
       "      <td>2</td>\n",
       "    </tr>\n",
       "  </tbody>\n",
       "</table>\n",
       "</div>"
      ],
      "text/plain": [
       "     langages   ver\n",
       "0      Python  10.3\n",
       "1           C    15\n",
       "2  JavaScript     6\n",
       "3        Lisp     2"
      ]
     },
     "execution_count": 123,
     "metadata": {},
     "output_type": "execute_result"
    }
   ],
   "source": [
    "df"
   ]
  },
  {
   "cell_type": "code",
   "execution_count": 124,
   "id": "09473a42",
   "metadata": {},
   "outputs": [
    {
     "data": {
      "text/plain": [
       "array([['Python', '10.3'],\n",
       "       ['C', '15'],\n",
       "       ['JavaScript', '6'],\n",
       "       ['Lisp', '2']], dtype=object)"
      ]
     },
     "execution_count": 124,
     "metadata": {},
     "output_type": "execute_result"
    }
   ],
   "source": [
    "df.values  # Affiche les données de la dataframe, donc la matrice."
   ]
  },
  {
   "cell_type": "code",
   "execution_count": 125,
   "id": "d341ac5c",
   "metadata": {},
   "outputs": [
    {
     "data": {
      "text/plain": [
       "(4, 2)"
      ]
     },
     "execution_count": 125,
     "metadata": {},
     "output_type": "execute_result"
    }
   ],
   "source": [
    "df.shape  # dimension de la dataframe (nombre de lignes, nombre de colonnes)"
   ]
  },
  {
   "cell_type": "code",
   "execution_count": 126,
   "id": "1d23bb15",
   "metadata": {},
   "outputs": [
    {
     "data": {
      "text/plain": [
       "Index(['langages', 'ver'], dtype='object')"
      ]
     },
     "execution_count": 126,
     "metadata": {},
     "output_type": "execute_result"
    }
   ],
   "source": [
    "df.columns  # affiche les en-têtes ou étiquettes des colonnes"
   ]
  },
  {
   "cell_type": "code",
   "execution_count": 127,
   "id": "9f1df897",
   "metadata": {},
   "outputs": [
    {
     "data": {
      "text/plain": [
       "RangeIndex(start=0, stop=4, step=1)"
      ]
     },
     "execution_count": 127,
     "metadata": {},
     "output_type": "execute_result"
    }
   ],
   "source": [
    "df.index  # affiche les index des lignes"
   ]
  },
  {
   "cell_type": "code",
   "execution_count": 128,
   "id": "39736f7d",
   "metadata": {},
   "outputs": [],
   "source": [
    "df1 = pd.DataFrame({'langages': ['Python', 'C', 'JavaScript', 'Lisp'],\n",
    "                  'ver': ['10.3', '15', '6', '2']},\n",
    "                  index=['a', 'b', 'c', 'd'])"
   ]
  },
  {
   "cell_type": "code",
   "execution_count": 129,
   "id": "ecda05c7",
   "metadata": {},
   "outputs": [
    {
     "data": {
      "text/html": [
       "<div>\n",
       "<style scoped>\n",
       "    .dataframe tbody tr th:only-of-type {\n",
       "        vertical-align: middle;\n",
       "    }\n",
       "\n",
       "    .dataframe tbody tr th {\n",
       "        vertical-align: top;\n",
       "    }\n",
       "\n",
       "    .dataframe thead th {\n",
       "        text-align: right;\n",
       "    }\n",
       "</style>\n",
       "<table border=\"1\" class=\"dataframe\">\n",
       "  <thead>\n",
       "    <tr style=\"text-align: right;\">\n",
       "      <th></th>\n",
       "      <th>langages</th>\n",
       "      <th>ver</th>\n",
       "    </tr>\n",
       "  </thead>\n",
       "  <tbody>\n",
       "    <tr>\n",
       "      <th>a</th>\n",
       "      <td>Python</td>\n",
       "      <td>10.3</td>\n",
       "    </tr>\n",
       "    <tr>\n",
       "      <th>b</th>\n",
       "      <td>C</td>\n",
       "      <td>15</td>\n",
       "    </tr>\n",
       "    <tr>\n",
       "      <th>c</th>\n",
       "      <td>JavaScript</td>\n",
       "      <td>6</td>\n",
       "    </tr>\n",
       "    <tr>\n",
       "      <th>d</th>\n",
       "      <td>Lisp</td>\n",
       "      <td>2</td>\n",
       "    </tr>\n",
       "  </tbody>\n",
       "</table>\n",
       "</div>"
      ],
      "text/plain": [
       "     langages   ver\n",
       "a      Python  10.3\n",
       "b           C    15\n",
       "c  JavaScript     6\n",
       "d        Lisp     2"
      ]
     },
     "execution_count": 129,
     "metadata": {},
     "output_type": "execute_result"
    }
   ],
   "source": [
    "df1"
   ]
  },
  {
   "cell_type": "code",
   "execution_count": 9,
   "id": "0d81bc67",
   "metadata": {},
   "outputs": [
    {
     "ename": "NameError",
     "evalue": "name 'df1' is not defined",
     "output_type": "error",
     "traceback": [
      "\u001b[0;31m---------------------------------------------------------------------------\u001b[0m",
      "\u001b[0;31mNameError\u001b[0m                                 Traceback (most recent call last)",
      "Input \u001b[0;32mIn [9]\u001b[0m, in \u001b[0;36m<cell line: 1>\u001b[0;34m()\u001b[0m\n\u001b[0;32m----> 1\u001b[0m df2 \u001b[38;5;241m=\u001b[39m \u001b[43mdf1\u001b[49m\u001b[38;5;241m.\u001b[39mcopy()\n",
      "\u001b[0;31mNameError\u001b[0m: name 'df1' is not defined"
     ]
    }
   ],
   "source": [
    "df2 = df1.copy()  # crée une copie de la dataframe `df1'"
   ]
  },
  {
   "cell_type": "code",
   "execution_count": 132,
   "id": "deb11fd0",
   "metadata": {},
   "outputs": [
    {
     "data": {
      "text/plain": [
       "False"
      ]
     },
     "execution_count": 132,
     "metadata": {},
     "output_type": "execute_result"
    }
   ],
   "source": [
    "df2 is df1  # `is' est un opérateur qui teste l'identifie de 2 données. "
   ]
  },
  {
   "cell_type": "code",
   "execution_count": 133,
   "id": "be76de23",
   "metadata": {},
   "outputs": [],
   "source": [
    "df3 = df1"
   ]
  },
  {
   "cell_type": "code",
   "execution_count": 134,
   "id": "12affafd",
   "metadata": {},
   "outputs": [
    {
     "data": {
      "text/plain": [
       "True"
      ]
     },
     "execution_count": 134,
     "metadata": {},
     "output_type": "execute_result"
    }
   ],
   "source": [
    "df3 is df1"
   ]
  },
  {
   "cell_type": "code",
   "execution_count": 135,
   "id": "a7f06a8a",
   "metadata": {},
   "outputs": [
    {
     "data": {
      "text/html": [
       "<div>\n",
       "<style scoped>\n",
       "    .dataframe tbody tr th:only-of-type {\n",
       "        vertical-align: middle;\n",
       "    }\n",
       "\n",
       "    .dataframe tbody tr th {\n",
       "        vertical-align: top;\n",
       "    }\n",
       "\n",
       "    .dataframe thead th {\n",
       "        text-align: right;\n",
       "    }\n",
       "</style>\n",
       "<table border=\"1\" class=\"dataframe\">\n",
       "  <thead>\n",
       "    <tr style=\"text-align: right;\">\n",
       "      <th></th>\n",
       "      <th>langages</th>\n",
       "      <th>ver</th>\n",
       "    </tr>\n",
       "  </thead>\n",
       "  <tbody>\n",
       "    <tr>\n",
       "      <th>a</th>\n",
       "      <td>Python</td>\n",
       "      <td>10.3</td>\n",
       "    </tr>\n",
       "    <tr>\n",
       "      <th>b</th>\n",
       "      <td>C</td>\n",
       "      <td>15</td>\n",
       "    </tr>\n",
       "    <tr>\n",
       "      <th>c</th>\n",
       "      <td>JavaScript</td>\n",
       "      <td>6</td>\n",
       "    </tr>\n",
       "    <tr>\n",
       "      <th>d</th>\n",
       "      <td>Lisp</td>\n",
       "      <td>2</td>\n",
       "    </tr>\n",
       "  </tbody>\n",
       "</table>\n",
       "</div>"
      ],
      "text/plain": [
       "     langages   ver\n",
       "a      Python  10.3\n",
       "b           C    15\n",
       "c  JavaScript     6\n",
       "d        Lisp     2"
      ]
     },
     "execution_count": 135,
     "metadata": {},
     "output_type": "execute_result"
    }
   ],
   "source": [
    "df2"
   ]
  },
  {
   "cell_type": "code",
   "execution_count": 136,
   "id": "5b639fda",
   "metadata": {},
   "outputs": [],
   "source": [
    "df2.index = range(4)"
   ]
  },
  {
   "cell_type": "code",
   "execution_count": 137,
   "id": "89e66ba0",
   "metadata": {},
   "outputs": [
    {
     "data": {
      "text/html": [
       "<div>\n",
       "<style scoped>\n",
       "    .dataframe tbody tr th:only-of-type {\n",
       "        vertical-align: middle;\n",
       "    }\n",
       "\n",
       "    .dataframe tbody tr th {\n",
       "        vertical-align: top;\n",
       "    }\n",
       "\n",
       "    .dataframe thead th {\n",
       "        text-align: right;\n",
       "    }\n",
       "</style>\n",
       "<table border=\"1\" class=\"dataframe\">\n",
       "  <thead>\n",
       "    <tr style=\"text-align: right;\">\n",
       "      <th></th>\n",
       "      <th>langages</th>\n",
       "      <th>ver</th>\n",
       "    </tr>\n",
       "  </thead>\n",
       "  <tbody>\n",
       "    <tr>\n",
       "      <th>0</th>\n",
       "      <td>Python</td>\n",
       "      <td>10.3</td>\n",
       "    </tr>\n",
       "    <tr>\n",
       "      <th>1</th>\n",
       "      <td>C</td>\n",
       "      <td>15</td>\n",
       "    </tr>\n",
       "    <tr>\n",
       "      <th>2</th>\n",
       "      <td>JavaScript</td>\n",
       "      <td>6</td>\n",
       "    </tr>\n",
       "    <tr>\n",
       "      <th>3</th>\n",
       "      <td>Lisp</td>\n",
       "      <td>2</td>\n",
       "    </tr>\n",
       "  </tbody>\n",
       "</table>\n",
       "</div>"
      ],
      "text/plain": [
       "     langages   ver\n",
       "0      Python  10.3\n",
       "1           C    15\n",
       "2  JavaScript     6\n",
       "3        Lisp     2"
      ]
     },
     "execution_count": 137,
     "metadata": {},
     "output_type": "execute_result"
    }
   ],
   "source": [
    "df2"
   ]
  },
  {
   "cell_type": "code",
   "execution_count": 138,
   "id": "62802e3a",
   "metadata": {},
   "outputs": [
    {
     "data": {
      "text/html": [
       "<div>\n",
       "<style scoped>\n",
       "    .dataframe tbody tr th:only-of-type {\n",
       "        vertical-align: middle;\n",
       "    }\n",
       "\n",
       "    .dataframe tbody tr th {\n",
       "        vertical-align: top;\n",
       "    }\n",
       "\n",
       "    .dataframe thead th {\n",
       "        text-align: right;\n",
       "    }\n",
       "</style>\n",
       "<table border=\"1\" class=\"dataframe\">\n",
       "  <thead>\n",
       "    <tr style=\"text-align: right;\">\n",
       "      <th></th>\n",
       "      <th>langages</th>\n",
       "      <th>version</th>\n",
       "    </tr>\n",
       "  </thead>\n",
       "  <tbody>\n",
       "    <tr>\n",
       "      <th>0</th>\n",
       "      <td>Python</td>\n",
       "      <td>10.3</td>\n",
       "    </tr>\n",
       "    <tr>\n",
       "      <th>1</th>\n",
       "      <td>C</td>\n",
       "      <td>15</td>\n",
       "    </tr>\n",
       "    <tr>\n",
       "      <th>2</th>\n",
       "      <td>JavaScript</td>\n",
       "      <td>6</td>\n",
       "    </tr>\n",
       "    <tr>\n",
       "      <th>3</th>\n",
       "      <td>Lisp</td>\n",
       "      <td>2</td>\n",
       "    </tr>\n",
       "  </tbody>\n",
       "</table>\n",
       "</div>"
      ],
      "text/plain": [
       "     langages version\n",
       "0      Python    10.3\n",
       "1           C      15\n",
       "2  JavaScript       6\n",
       "3        Lisp       2"
      ]
     },
     "execution_count": 138,
     "metadata": {},
     "output_type": "execute_result"
    }
   ],
   "source": [
    "df2.rename(columns={'ver': 'version'})"
   ]
  },
  {
   "cell_type": "code",
   "execution_count": 139,
   "id": "5609719e",
   "metadata": {},
   "outputs": [
    {
     "data": {
      "text/html": [
       "<div>\n",
       "<style scoped>\n",
       "    .dataframe tbody tr th:only-of-type {\n",
       "        vertical-align: middle;\n",
       "    }\n",
       "\n",
       "    .dataframe tbody tr th {\n",
       "        vertical-align: top;\n",
       "    }\n",
       "\n",
       "    .dataframe thead th {\n",
       "        text-align: right;\n",
       "    }\n",
       "</style>\n",
       "<table border=\"1\" class=\"dataframe\">\n",
       "  <thead>\n",
       "    <tr style=\"text-align: right;\">\n",
       "      <th></th>\n",
       "      <th>langages</th>\n",
       "      <th>ver</th>\n",
       "    </tr>\n",
       "  </thead>\n",
       "  <tbody>\n",
       "    <tr>\n",
       "      <th>0</th>\n",
       "      <td>Python</td>\n",
       "      <td>10.3</td>\n",
       "    </tr>\n",
       "    <tr>\n",
       "      <th>1</th>\n",
       "      <td>C</td>\n",
       "      <td>15</td>\n",
       "    </tr>\n",
       "    <tr>\n",
       "      <th>2</th>\n",
       "      <td>JavaScript</td>\n",
       "      <td>6</td>\n",
       "    </tr>\n",
       "    <tr>\n",
       "      <th>3</th>\n",
       "      <td>Lisp</td>\n",
       "      <td>2</td>\n",
       "    </tr>\n",
       "  </tbody>\n",
       "</table>\n",
       "</div>"
      ],
      "text/plain": [
       "     langages   ver\n",
       "0      Python  10.3\n",
       "1           C    15\n",
       "2  JavaScript     6\n",
       "3        Lisp     2"
      ]
     },
     "execution_count": 139,
     "metadata": {},
     "output_type": "execute_result"
    }
   ],
   "source": [
    "df2"
   ]
  },
  {
   "cell_type": "code",
   "execution_count": 140,
   "id": "b6de17c0",
   "metadata": {},
   "outputs": [],
   "source": [
    "df2.rename(columns={'ver': 'version'}, inplace=True)"
   ]
  },
  {
   "cell_type": "code",
   "execution_count": 141,
   "id": "3f037cd6",
   "metadata": {},
   "outputs": [
    {
     "data": {
      "text/html": [
       "<div>\n",
       "<style scoped>\n",
       "    .dataframe tbody tr th:only-of-type {\n",
       "        vertical-align: middle;\n",
       "    }\n",
       "\n",
       "    .dataframe tbody tr th {\n",
       "        vertical-align: top;\n",
       "    }\n",
       "\n",
       "    .dataframe thead th {\n",
       "        text-align: right;\n",
       "    }\n",
       "</style>\n",
       "<table border=\"1\" class=\"dataframe\">\n",
       "  <thead>\n",
       "    <tr style=\"text-align: right;\">\n",
       "      <th></th>\n",
       "      <th>langages</th>\n",
       "      <th>version</th>\n",
       "    </tr>\n",
       "  </thead>\n",
       "  <tbody>\n",
       "    <tr>\n",
       "      <th>0</th>\n",
       "      <td>Python</td>\n",
       "      <td>10.3</td>\n",
       "    </tr>\n",
       "    <tr>\n",
       "      <th>1</th>\n",
       "      <td>C</td>\n",
       "      <td>15</td>\n",
       "    </tr>\n",
       "    <tr>\n",
       "      <th>2</th>\n",
       "      <td>JavaScript</td>\n",
       "      <td>6</td>\n",
       "    </tr>\n",
       "    <tr>\n",
       "      <th>3</th>\n",
       "      <td>Lisp</td>\n",
       "      <td>2</td>\n",
       "    </tr>\n",
       "  </tbody>\n",
       "</table>\n",
       "</div>"
      ],
      "text/plain": [
       "     langages version\n",
       "0      Python    10.3\n",
       "1           C      15\n",
       "2  JavaScript       6\n",
       "3        Lisp       2"
      ]
     },
     "execution_count": 141,
     "metadata": {},
     "output_type": "execute_result"
    }
   ],
   "source": [
    "df2"
   ]
  },
  {
   "cell_type": "code",
   "execution_count": 143,
   "id": "b418cfb2",
   "metadata": {},
   "outputs": [
    {
     "data": {
      "text/html": [
       "<div>\n",
       "<style scoped>\n",
       "    .dataframe tbody tr th:only-of-type {\n",
       "        vertical-align: middle;\n",
       "    }\n",
       "\n",
       "    .dataframe tbody tr th {\n",
       "        vertical-align: top;\n",
       "    }\n",
       "\n",
       "    .dataframe thead th {\n",
       "        text-align: right;\n",
       "    }\n",
       "</style>\n",
       "<table border=\"1\" class=\"dataframe\">\n",
       "  <thead>\n",
       "    <tr style=\"text-align: right;\">\n",
       "      <th></th>\n",
       "      <th>langages</th>\n",
       "      <th>version</th>\n",
       "    </tr>\n",
       "  </thead>\n",
       "  <tbody>\n",
       "    <tr>\n",
       "      <th>0</th>\n",
       "      <td>Python</td>\n",
       "      <td>10.3</td>\n",
       "    </tr>\n",
       "    <tr>\n",
       "      <th>1</th>\n",
       "      <td>C</td>\n",
       "      <td>15</td>\n",
       "    </tr>\n",
       "  </tbody>\n",
       "</table>\n",
       "</div>"
      ],
      "text/plain": [
       "  langages version\n",
       "0   Python    10.3\n",
       "1        C      15"
      ]
     },
     "execution_count": 143,
     "metadata": {},
     "output_type": "execute_result"
    }
   ],
   "source": [
    "df2.head(2)  # affiche les 2 premières lignes de la dataframe"
   ]
  },
  {
   "cell_type": "code",
   "execution_count": 144,
   "id": "f4b2b9a1",
   "metadata": {},
   "outputs": [
    {
     "data": {
      "text/html": [
       "<div>\n",
       "<style scoped>\n",
       "    .dataframe tbody tr th:only-of-type {\n",
       "        vertical-align: middle;\n",
       "    }\n",
       "\n",
       "    .dataframe tbody tr th {\n",
       "        vertical-align: top;\n",
       "    }\n",
       "\n",
       "    .dataframe thead th {\n",
       "        text-align: right;\n",
       "    }\n",
       "</style>\n",
       "<table border=\"1\" class=\"dataframe\">\n",
       "  <thead>\n",
       "    <tr style=\"text-align: right;\">\n",
       "      <th></th>\n",
       "      <th>langages</th>\n",
       "      <th>version</th>\n",
       "    </tr>\n",
       "  </thead>\n",
       "  <tbody>\n",
       "    <tr>\n",
       "      <th>0</th>\n",
       "      <td>Python</td>\n",
       "      <td>10.3</td>\n",
       "    </tr>\n",
       "    <tr>\n",
       "      <th>1</th>\n",
       "      <td>C</td>\n",
       "      <td>15</td>\n",
       "    </tr>\n",
       "    <tr>\n",
       "      <th>2</th>\n",
       "      <td>JavaScript</td>\n",
       "      <td>6</td>\n",
       "    </tr>\n",
       "    <tr>\n",
       "      <th>3</th>\n",
       "      <td>Lisp</td>\n",
       "      <td>2</td>\n",
       "    </tr>\n",
       "  </tbody>\n",
       "</table>\n",
       "</div>"
      ],
      "text/plain": [
       "     langages version\n",
       "0      Python    10.3\n",
       "1           C      15\n",
       "2  JavaScript       6\n",
       "3        Lisp       2"
      ]
     },
     "execution_count": 144,
     "metadata": {},
     "output_type": "execute_result"
    }
   ],
   "source": [
    "df2.tail()  # affiche les 5 dernières lignes de la dataframe"
   ]
  },
  {
   "cell_type": "code",
   "execution_count": 145,
   "id": "2c85bade",
   "metadata": {},
   "outputs": [
    {
     "data": {
      "text/html": [
       "<div>\n",
       "<style scoped>\n",
       "    .dataframe tbody tr th:only-of-type {\n",
       "        vertical-align: middle;\n",
       "    }\n",
       "\n",
       "    .dataframe tbody tr th {\n",
       "        vertical-align: top;\n",
       "    }\n",
       "\n",
       "    .dataframe thead th {\n",
       "        text-align: right;\n",
       "    }\n",
       "</style>\n",
       "<table border=\"1\" class=\"dataframe\">\n",
       "  <thead>\n",
       "    <tr style=\"text-align: right;\">\n",
       "      <th></th>\n",
       "      <th>langages</th>\n",
       "      <th>version</th>\n",
       "    </tr>\n",
       "  </thead>\n",
       "  <tbody>\n",
       "    <tr>\n",
       "      <th>2</th>\n",
       "      <td>JavaScript</td>\n",
       "      <td>6</td>\n",
       "    </tr>\n",
       "    <tr>\n",
       "      <th>3</th>\n",
       "      <td>Lisp</td>\n",
       "      <td>2</td>\n",
       "    </tr>\n",
       "  </tbody>\n",
       "</table>\n",
       "</div>"
      ],
      "text/plain": [
       "     langages version\n",
       "2  JavaScript       6\n",
       "3        Lisp       2"
      ]
     },
     "execution_count": 145,
     "metadata": {},
     "output_type": "execute_result"
    }
   ],
   "source": [
    "df2.tail(2)"
   ]
  },
  {
   "cell_type": "code",
   "execution_count": 146,
   "id": "f82b0fcd",
   "metadata": {},
   "outputs": [
    {
     "data": {
      "text/html": [
       "<div>\n",
       "<style scoped>\n",
       "    .dataframe tbody tr th:only-of-type {\n",
       "        vertical-align: middle;\n",
       "    }\n",
       "\n",
       "    .dataframe tbody tr th {\n",
       "        vertical-align: top;\n",
       "    }\n",
       "\n",
       "    .dataframe thead th {\n",
       "        text-align: right;\n",
       "    }\n",
       "</style>\n",
       "<table border=\"1\" class=\"dataframe\">\n",
       "  <thead>\n",
       "    <tr style=\"text-align: right;\">\n",
       "      <th></th>\n",
       "      <th>langages</th>\n",
       "      <th>version</th>\n",
       "    </tr>\n",
       "  </thead>\n",
       "  <tbody>\n",
       "    <tr>\n",
       "      <th>count</th>\n",
       "      <td>4</td>\n",
       "      <td>4</td>\n",
       "    </tr>\n",
       "    <tr>\n",
       "      <th>unique</th>\n",
       "      <td>4</td>\n",
       "      <td>4</td>\n",
       "    </tr>\n",
       "    <tr>\n",
       "      <th>top</th>\n",
       "      <td>Python</td>\n",
       "      <td>10.3</td>\n",
       "    </tr>\n",
       "    <tr>\n",
       "      <th>freq</th>\n",
       "      <td>1</td>\n",
       "      <td>1</td>\n",
       "    </tr>\n",
       "  </tbody>\n",
       "</table>\n",
       "</div>"
      ],
      "text/plain": [
       "       langages version\n",
       "count         4       4\n",
       "unique        4       4\n",
       "top      Python    10.3\n",
       "freq          1       1"
      ]
     },
     "execution_count": 146,
     "metadata": {},
     "output_type": "execute_result"
    }
   ],
   "source": [
    "df2.describe()  # affiche quelques statistiques descriptives liées à de la dataframe"
   ]
  },
  {
   "cell_type": "code",
   "execution_count": 147,
   "id": "ce5a232f",
   "metadata": {},
   "outputs": [],
   "source": [
    "# Lecture d'un fichier de type CSV sous forme de dataframe\n",
    "df_nba = pd.read_csv(\"https://media.geeksforgeeks.org/wp-content/uploads/nba.csv\")"
   ]
  },
  {
   "cell_type": "code",
   "execution_count": 148,
   "id": "51db270a",
   "metadata": {},
   "outputs": [
    {
     "data": {
      "text/plain": [
       "(458, 9)"
      ]
     },
     "execution_count": 148,
     "metadata": {},
     "output_type": "execute_result"
    }
   ],
   "source": [
    "df_nba.shape"
   ]
  },
  {
   "cell_type": "code",
   "execution_count": 149,
   "id": "f61b0bf9",
   "metadata": {},
   "outputs": [
    {
     "data": {
      "text/html": [
       "<div>\n",
       "<style scoped>\n",
       "    .dataframe tbody tr th:only-of-type {\n",
       "        vertical-align: middle;\n",
       "    }\n",
       "\n",
       "    .dataframe tbody tr th {\n",
       "        vertical-align: top;\n",
       "    }\n",
       "\n",
       "    .dataframe thead th {\n",
       "        text-align: right;\n",
       "    }\n",
       "</style>\n",
       "<table border=\"1\" class=\"dataframe\">\n",
       "  <thead>\n",
       "    <tr style=\"text-align: right;\">\n",
       "      <th></th>\n",
       "      <th>Name</th>\n",
       "      <th>Team</th>\n",
       "      <th>Number</th>\n",
       "      <th>Position</th>\n",
       "      <th>Age</th>\n",
       "      <th>Height</th>\n",
       "      <th>Weight</th>\n",
       "      <th>College</th>\n",
       "      <th>Salary</th>\n",
       "    </tr>\n",
       "  </thead>\n",
       "  <tbody>\n",
       "    <tr>\n",
       "      <th>0</th>\n",
       "      <td>Avery Bradley</td>\n",
       "      <td>Boston Celtics</td>\n",
       "      <td>0.0</td>\n",
       "      <td>PG</td>\n",
       "      <td>25.0</td>\n",
       "      <td>6-2</td>\n",
       "      <td>180.0</td>\n",
       "      <td>Texas</td>\n",
       "      <td>7730337.0</td>\n",
       "    </tr>\n",
       "    <tr>\n",
       "      <th>1</th>\n",
       "      <td>Jae Crowder</td>\n",
       "      <td>Boston Celtics</td>\n",
       "      <td>99.0</td>\n",
       "      <td>SF</td>\n",
       "      <td>25.0</td>\n",
       "      <td>6-6</td>\n",
       "      <td>235.0</td>\n",
       "      <td>Marquette</td>\n",
       "      <td>6796117.0</td>\n",
       "    </tr>\n",
       "    <tr>\n",
       "      <th>2</th>\n",
       "      <td>John Holland</td>\n",
       "      <td>Boston Celtics</td>\n",
       "      <td>30.0</td>\n",
       "      <td>SG</td>\n",
       "      <td>27.0</td>\n",
       "      <td>6-5</td>\n",
       "      <td>205.0</td>\n",
       "      <td>Boston University</td>\n",
       "      <td>NaN</td>\n",
       "    </tr>\n",
       "    <tr>\n",
       "      <th>3</th>\n",
       "      <td>R.J. Hunter</td>\n",
       "      <td>Boston Celtics</td>\n",
       "      <td>28.0</td>\n",
       "      <td>SG</td>\n",
       "      <td>22.0</td>\n",
       "      <td>6-5</td>\n",
       "      <td>185.0</td>\n",
       "      <td>Georgia State</td>\n",
       "      <td>1148640.0</td>\n",
       "    </tr>\n",
       "    <tr>\n",
       "      <th>4</th>\n",
       "      <td>Jonas Jerebko</td>\n",
       "      <td>Boston Celtics</td>\n",
       "      <td>8.0</td>\n",
       "      <td>PF</td>\n",
       "      <td>29.0</td>\n",
       "      <td>6-10</td>\n",
       "      <td>231.0</td>\n",
       "      <td>NaN</td>\n",
       "      <td>5000000.0</td>\n",
       "    </tr>\n",
       "    <tr>\n",
       "      <th>...</th>\n",
       "      <td>...</td>\n",
       "      <td>...</td>\n",
       "      <td>...</td>\n",
       "      <td>...</td>\n",
       "      <td>...</td>\n",
       "      <td>...</td>\n",
       "      <td>...</td>\n",
       "      <td>...</td>\n",
       "      <td>...</td>\n",
       "    </tr>\n",
       "    <tr>\n",
       "      <th>453</th>\n",
       "      <td>Shelvin Mack</td>\n",
       "      <td>Utah Jazz</td>\n",
       "      <td>8.0</td>\n",
       "      <td>PG</td>\n",
       "      <td>26.0</td>\n",
       "      <td>6-3</td>\n",
       "      <td>203.0</td>\n",
       "      <td>Butler</td>\n",
       "      <td>2433333.0</td>\n",
       "    </tr>\n",
       "    <tr>\n",
       "      <th>454</th>\n",
       "      <td>Raul Neto</td>\n",
       "      <td>Utah Jazz</td>\n",
       "      <td>25.0</td>\n",
       "      <td>PG</td>\n",
       "      <td>24.0</td>\n",
       "      <td>6-1</td>\n",
       "      <td>179.0</td>\n",
       "      <td>NaN</td>\n",
       "      <td>900000.0</td>\n",
       "    </tr>\n",
       "    <tr>\n",
       "      <th>455</th>\n",
       "      <td>Tibor Pleiss</td>\n",
       "      <td>Utah Jazz</td>\n",
       "      <td>21.0</td>\n",
       "      <td>C</td>\n",
       "      <td>26.0</td>\n",
       "      <td>7-3</td>\n",
       "      <td>256.0</td>\n",
       "      <td>NaN</td>\n",
       "      <td>2900000.0</td>\n",
       "    </tr>\n",
       "    <tr>\n",
       "      <th>456</th>\n",
       "      <td>Jeff Withey</td>\n",
       "      <td>Utah Jazz</td>\n",
       "      <td>24.0</td>\n",
       "      <td>C</td>\n",
       "      <td>26.0</td>\n",
       "      <td>7-0</td>\n",
       "      <td>231.0</td>\n",
       "      <td>Kansas</td>\n",
       "      <td>947276.0</td>\n",
       "    </tr>\n",
       "    <tr>\n",
       "      <th>457</th>\n",
       "      <td>NaN</td>\n",
       "      <td>NaN</td>\n",
       "      <td>NaN</td>\n",
       "      <td>NaN</td>\n",
       "      <td>NaN</td>\n",
       "      <td>NaN</td>\n",
       "      <td>NaN</td>\n",
       "      <td>NaN</td>\n",
       "      <td>NaN</td>\n",
       "    </tr>\n",
       "  </tbody>\n",
       "</table>\n",
       "<p>458 rows × 9 columns</p>\n",
       "</div>"
      ],
      "text/plain": [
       "              Name            Team  Number Position   Age Height  Weight  \\\n",
       "0    Avery Bradley  Boston Celtics     0.0       PG  25.0    6-2   180.0   \n",
       "1      Jae Crowder  Boston Celtics    99.0       SF  25.0    6-6   235.0   \n",
       "2     John Holland  Boston Celtics    30.0       SG  27.0    6-5   205.0   \n",
       "3      R.J. Hunter  Boston Celtics    28.0       SG  22.0    6-5   185.0   \n",
       "4    Jonas Jerebko  Boston Celtics     8.0       PF  29.0   6-10   231.0   \n",
       "..             ...             ...     ...      ...   ...    ...     ...   \n",
       "453   Shelvin Mack       Utah Jazz     8.0       PG  26.0    6-3   203.0   \n",
       "454      Raul Neto       Utah Jazz    25.0       PG  24.0    6-1   179.0   \n",
       "455   Tibor Pleiss       Utah Jazz    21.0        C  26.0    7-3   256.0   \n",
       "456    Jeff Withey       Utah Jazz    24.0        C  26.0    7-0   231.0   \n",
       "457            NaN             NaN     NaN      NaN   NaN    NaN     NaN   \n",
       "\n",
       "               College     Salary  \n",
       "0                Texas  7730337.0  \n",
       "1            Marquette  6796117.0  \n",
       "2    Boston University        NaN  \n",
       "3        Georgia State  1148640.0  \n",
       "4                  NaN  5000000.0  \n",
       "..                 ...        ...  \n",
       "453             Butler  2433333.0  \n",
       "454                NaN   900000.0  \n",
       "455                NaN  2900000.0  \n",
       "456             Kansas   947276.0  \n",
       "457                NaN        NaN  \n",
       "\n",
       "[458 rows x 9 columns]"
      ]
     },
     "execution_count": 149,
     "metadata": {},
     "output_type": "execute_result"
    }
   ],
   "source": [
    "df_nba"
   ]
  },
  {
   "cell_type": "code",
   "execution_count": 151,
   "id": "db3955e0",
   "metadata": {},
   "outputs": [
    {
     "data": {
      "text/plain": [
       "Name         object\n",
       "Team         object\n",
       "Number      float64\n",
       "Position     object\n",
       "Age         float64\n",
       "Height       object\n",
       "Weight      float64\n",
       "College      object\n",
       "Salary      float64\n",
       "dtype: object"
      ]
     },
     "execution_count": 151,
     "metadata": {},
     "output_type": "execute_result"
    }
   ],
   "source": [
    "df_nba.dtypes  # affiche le type de chaque colonne de la dataframe"
   ]
  },
  {
   "cell_type": "code",
   "execution_count": 152,
   "id": "c0a65449",
   "metadata": {},
   "outputs": [],
   "source": [
    "# On extraie quelques colonnes de la dataframe\n",
    "# `df_nba' est également une dataframe\n",
    "df_nba = df_nba[['Number', 'Age', 'Weight', 'Salary']] "
   ]
  },
  {
   "cell_type": "code",
   "execution_count": 153,
   "id": "9fda8f40",
   "metadata": {},
   "outputs": [
    {
     "data": {
      "text/html": [
       "<div>\n",
       "<style scoped>\n",
       "    .dataframe tbody tr th:only-of-type {\n",
       "        vertical-align: middle;\n",
       "    }\n",
       "\n",
       "    .dataframe tbody tr th {\n",
       "        vertical-align: top;\n",
       "    }\n",
       "\n",
       "    .dataframe thead th {\n",
       "        text-align: right;\n",
       "    }\n",
       "</style>\n",
       "<table border=\"1\" class=\"dataframe\">\n",
       "  <thead>\n",
       "    <tr style=\"text-align: right;\">\n",
       "      <th></th>\n",
       "      <th>Number</th>\n",
       "      <th>Age</th>\n",
       "      <th>Weight</th>\n",
       "      <th>Salary</th>\n",
       "    </tr>\n",
       "  </thead>\n",
       "  <tbody>\n",
       "    <tr>\n",
       "      <th>0</th>\n",
       "      <td>0.0</td>\n",
       "      <td>25.0</td>\n",
       "      <td>180.0</td>\n",
       "      <td>7730337.0</td>\n",
       "    </tr>\n",
       "    <tr>\n",
       "      <th>1</th>\n",
       "      <td>99.0</td>\n",
       "      <td>25.0</td>\n",
       "      <td>235.0</td>\n",
       "      <td>6796117.0</td>\n",
       "    </tr>\n",
       "    <tr>\n",
       "      <th>2</th>\n",
       "      <td>30.0</td>\n",
       "      <td>27.0</td>\n",
       "      <td>205.0</td>\n",
       "      <td>NaN</td>\n",
       "    </tr>\n",
       "    <tr>\n",
       "      <th>3</th>\n",
       "      <td>28.0</td>\n",
       "      <td>22.0</td>\n",
       "      <td>185.0</td>\n",
       "      <td>1148640.0</td>\n",
       "    </tr>\n",
       "    <tr>\n",
       "      <th>4</th>\n",
       "      <td>8.0</td>\n",
       "      <td>29.0</td>\n",
       "      <td>231.0</td>\n",
       "      <td>5000000.0</td>\n",
       "    </tr>\n",
       "  </tbody>\n",
       "</table>\n",
       "</div>"
      ],
      "text/plain": [
       "   Number   Age  Weight     Salary\n",
       "0     0.0  25.0   180.0  7730337.0\n",
       "1    99.0  25.0   235.0  6796117.0\n",
       "2    30.0  27.0   205.0        NaN\n",
       "3    28.0  22.0   185.0  1148640.0\n",
       "4     8.0  29.0   231.0  5000000.0"
      ]
     },
     "execution_count": 153,
     "metadata": {},
     "output_type": "execute_result"
    }
   ],
   "source": [
    "df_nba.head()"
   ]
  },
  {
   "cell_type": "code",
   "execution_count": 154,
   "id": "c7787db0",
   "metadata": {},
   "outputs": [
    {
     "data": {
      "text/html": [
       "<div>\n",
       "<style scoped>\n",
       "    .dataframe tbody tr th:only-of-type {\n",
       "        vertical-align: middle;\n",
       "    }\n",
       "\n",
       "    .dataframe tbody tr th {\n",
       "        vertical-align: top;\n",
       "    }\n",
       "\n",
       "    .dataframe thead th {\n",
       "        text-align: right;\n",
       "    }\n",
       "</style>\n",
       "<table border=\"1\" class=\"dataframe\">\n",
       "  <thead>\n",
       "    <tr style=\"text-align: right;\">\n",
       "      <th></th>\n",
       "      <th>Number</th>\n",
       "      <th>Age</th>\n",
       "      <th>Weight</th>\n",
       "      <th>Salary</th>\n",
       "    </tr>\n",
       "  </thead>\n",
       "  <tbody>\n",
       "    <tr>\n",
       "      <th>count</th>\n",
       "      <td>457.000000</td>\n",
       "      <td>457.000000</td>\n",
       "      <td>457.000000</td>\n",
       "      <td>4.460000e+02</td>\n",
       "    </tr>\n",
       "    <tr>\n",
       "      <th>mean</th>\n",
       "      <td>17.678337</td>\n",
       "      <td>26.938731</td>\n",
       "      <td>221.522976</td>\n",
       "      <td>4.842684e+06</td>\n",
       "    </tr>\n",
       "    <tr>\n",
       "      <th>std</th>\n",
       "      <td>15.966090</td>\n",
       "      <td>4.404016</td>\n",
       "      <td>26.368343</td>\n",
       "      <td>5.229238e+06</td>\n",
       "    </tr>\n",
       "    <tr>\n",
       "      <th>min</th>\n",
       "      <td>0.000000</td>\n",
       "      <td>19.000000</td>\n",
       "      <td>161.000000</td>\n",
       "      <td>3.088800e+04</td>\n",
       "    </tr>\n",
       "    <tr>\n",
       "      <th>25%</th>\n",
       "      <td>5.000000</td>\n",
       "      <td>24.000000</td>\n",
       "      <td>200.000000</td>\n",
       "      <td>1.044792e+06</td>\n",
       "    </tr>\n",
       "    <tr>\n",
       "      <th>50%</th>\n",
       "      <td>13.000000</td>\n",
       "      <td>26.000000</td>\n",
       "      <td>220.000000</td>\n",
       "      <td>2.839073e+06</td>\n",
       "    </tr>\n",
       "    <tr>\n",
       "      <th>75%</th>\n",
       "      <td>25.000000</td>\n",
       "      <td>30.000000</td>\n",
       "      <td>240.000000</td>\n",
       "      <td>6.500000e+06</td>\n",
       "    </tr>\n",
       "    <tr>\n",
       "      <th>max</th>\n",
       "      <td>99.000000</td>\n",
       "      <td>40.000000</td>\n",
       "      <td>307.000000</td>\n",
       "      <td>2.500000e+07</td>\n",
       "    </tr>\n",
       "  </tbody>\n",
       "</table>\n",
       "</div>"
      ],
      "text/plain": [
       "           Number         Age      Weight        Salary\n",
       "count  457.000000  457.000000  457.000000  4.460000e+02\n",
       "mean    17.678337   26.938731  221.522976  4.842684e+06\n",
       "std     15.966090    4.404016   26.368343  5.229238e+06\n",
       "min      0.000000   19.000000  161.000000  3.088800e+04\n",
       "25%      5.000000   24.000000  200.000000  1.044792e+06\n",
       "50%     13.000000   26.000000  220.000000  2.839073e+06\n",
       "75%     25.000000   30.000000  240.000000  6.500000e+06\n",
       "max     99.000000   40.000000  307.000000  2.500000e+07"
      ]
     },
     "execution_count": 154,
     "metadata": {},
     "output_type": "execute_result"
    }
   ],
   "source": [
    "df_nba.describe()"
   ]
  },
  {
   "cell_type": "code",
   "execution_count": 156,
   "id": "b2aa2a5d",
   "metadata": {},
   "outputs": [
    {
     "name": "stdout",
     "output_type": "stream",
     "text": [
      "<class 'pandas.core.frame.DataFrame'>\n",
      "RangeIndex: 458 entries, 0 to 457\n",
      "Data columns (total 4 columns):\n",
      " #   Column  Non-Null Count  Dtype  \n",
      "---  ------  --------------  -----  \n",
      " 0   Number  457 non-null    float64\n",
      " 1   Age     457 non-null    float64\n",
      " 2   Weight  457 non-null    float64\n",
      " 3   Salary  446 non-null    float64\n",
      "dtypes: float64(4)\n",
      "memory usage: 14.4 KB\n"
     ]
    }
   ],
   "source": [
    "# La méthode info() donne quelques infos sur la dataframe, \n",
    "# notamment son type, le nombre de ses lignes et de des colonnes,\n",
    "# le type et nombre de valeurs non nulles de chaque colonne\n",
    "# et la mémoire utilisée par la dataframe\n",
    "df_nba.info()"
   ]
  },
  {
   "cell_type": "code",
   "execution_count": 157,
   "id": "ebb0f99a",
   "metadata": {},
   "outputs": [
    {
     "data": {
      "text/html": [
       "<div>\n",
       "<style scoped>\n",
       "    .dataframe tbody tr th:only-of-type {\n",
       "        vertical-align: middle;\n",
       "    }\n",
       "\n",
       "    .dataframe tbody tr th {\n",
       "        vertical-align: top;\n",
       "    }\n",
       "\n",
       "    .dataframe thead th {\n",
       "        text-align: right;\n",
       "    }\n",
       "</style>\n",
       "<table border=\"1\" class=\"dataframe\">\n",
       "  <thead>\n",
       "    <tr style=\"text-align: right;\">\n",
       "      <th></th>\n",
       "      <th>Number</th>\n",
       "      <th>Age</th>\n",
       "      <th>Weight</th>\n",
       "      <th>Salary</th>\n",
       "    </tr>\n",
       "  </thead>\n",
       "  <tbody>\n",
       "    <tr>\n",
       "      <th>0</th>\n",
       "      <td>0.0</td>\n",
       "      <td>25.0</td>\n",
       "      <td>180.0</td>\n",
       "      <td>7730337.0</td>\n",
       "    </tr>\n",
       "    <tr>\n",
       "      <th>1</th>\n",
       "      <td>99.0</td>\n",
       "      <td>25.0</td>\n",
       "      <td>235.0</td>\n",
       "      <td>6796117.0</td>\n",
       "    </tr>\n",
       "    <tr>\n",
       "      <th>2</th>\n",
       "      <td>30.0</td>\n",
       "      <td>27.0</td>\n",
       "      <td>205.0</td>\n",
       "      <td>NaN</td>\n",
       "    </tr>\n",
       "    <tr>\n",
       "      <th>3</th>\n",
       "      <td>28.0</td>\n",
       "      <td>22.0</td>\n",
       "      <td>185.0</td>\n",
       "      <td>1148640.0</td>\n",
       "    </tr>\n",
       "    <tr>\n",
       "      <th>4</th>\n",
       "      <td>8.0</td>\n",
       "      <td>29.0</td>\n",
       "      <td>231.0</td>\n",
       "      <td>5000000.0</td>\n",
       "    </tr>\n",
       "    <tr>\n",
       "      <th>...</th>\n",
       "      <td>...</td>\n",
       "      <td>...</td>\n",
       "      <td>...</td>\n",
       "      <td>...</td>\n",
       "    </tr>\n",
       "    <tr>\n",
       "      <th>453</th>\n",
       "      <td>8.0</td>\n",
       "      <td>26.0</td>\n",
       "      <td>203.0</td>\n",
       "      <td>2433333.0</td>\n",
       "    </tr>\n",
       "    <tr>\n",
       "      <th>454</th>\n",
       "      <td>25.0</td>\n",
       "      <td>24.0</td>\n",
       "      <td>179.0</td>\n",
       "      <td>900000.0</td>\n",
       "    </tr>\n",
       "    <tr>\n",
       "      <th>455</th>\n",
       "      <td>21.0</td>\n",
       "      <td>26.0</td>\n",
       "      <td>256.0</td>\n",
       "      <td>2900000.0</td>\n",
       "    </tr>\n",
       "    <tr>\n",
       "      <th>456</th>\n",
       "      <td>24.0</td>\n",
       "      <td>26.0</td>\n",
       "      <td>231.0</td>\n",
       "      <td>947276.0</td>\n",
       "    </tr>\n",
       "    <tr>\n",
       "      <th>457</th>\n",
       "      <td>NaN</td>\n",
       "      <td>NaN</td>\n",
       "      <td>NaN</td>\n",
       "      <td>NaN</td>\n",
       "    </tr>\n",
       "  </tbody>\n",
       "</table>\n",
       "<p>458 rows × 4 columns</p>\n",
       "</div>"
      ],
      "text/plain": [
       "     Number   Age  Weight     Salary\n",
       "0       0.0  25.0   180.0  7730337.0\n",
       "1      99.0  25.0   235.0  6796117.0\n",
       "2      30.0  27.0   205.0        NaN\n",
       "3      28.0  22.0   185.0  1148640.0\n",
       "4       8.0  29.0   231.0  5000000.0\n",
       "..      ...   ...     ...        ...\n",
       "453     8.0  26.0   203.0  2433333.0\n",
       "454    25.0  24.0   179.0   900000.0\n",
       "455    21.0  26.0   256.0  2900000.0\n",
       "456    24.0  26.0   231.0   947276.0\n",
       "457     NaN   NaN     NaN        NaN\n",
       "\n",
       "[458 rows x 4 columns]"
      ]
     },
     "execution_count": 157,
     "metadata": {},
     "output_type": "execute_result"
    }
   ],
   "source": [
    "df_nba"
   ]
  },
  {
   "cell_type": "markdown",
   "id": "1d6b43a2",
   "metadata": {},
   "source": [
    "Une **`série`** est une dataframe composée d'une seule colonne (en dehors de la colonne des index)."
   ]
  },
  {
   "cell_type": "code",
   "execution_count": 10,
   "id": "3c14db6f",
   "metadata": {},
   "outputs": [
    {
     "ename": "NameError",
     "evalue": "name 'df_nba' is not defined",
     "output_type": "error",
     "traceback": [
      "\u001b[0;31m---------------------------------------------------------------------------\u001b[0m",
      "\u001b[0;31mNameError\u001b[0m                                 Traceback (most recent call last)",
      "Input \u001b[0;32mIn [10]\u001b[0m, in \u001b[0;36m<cell line: 2>\u001b[0;34m()\u001b[0m\n\u001b[1;32m      1\u001b[0m \u001b[38;5;66;03m# La variable `salary' est obtenue en extrayant la colonne `Salary'. C'est donc une série.\u001b[39;00m\n\u001b[0;32m----> 2\u001b[0m salary \u001b[38;5;241m=\u001b[39m \u001b[43mdf_nba\u001b[49m[\u001b[38;5;124m'\u001b[39m\u001b[38;5;124mSalary\u001b[39m\u001b[38;5;124m'\u001b[39m]\n",
      "\u001b[0;31mNameError\u001b[0m: name 'df_nba' is not defined"
     ]
    }
   ],
   "source": [
    "# La variable `salary' est obtenue en extrayant la colonne `Salary'. C'est donc une série.\n",
    "salary = df_nba['Salary']"
   ]
  },
  {
   "cell_type": "code",
   "execution_count": 159,
   "id": "892627d0",
   "metadata": {},
   "outputs": [
    {
     "data": {
      "text/plain": [
       "pandas.core.series.Series"
      ]
     },
     "execution_count": 159,
     "metadata": {},
     "output_type": "execute_result"
    }
   ],
   "source": [
    "type(salary)"
   ]
  },
  {
   "cell_type": "code",
   "execution_count": 160,
   "id": "396694a2",
   "metadata": {},
   "outputs": [
    {
     "data": {
      "text/plain": [
       "pandas.core.frame.DataFrame"
      ]
     },
     "execution_count": 160,
     "metadata": {},
     "output_type": "execute_result"
    }
   ],
   "source": [
    "type(df_nba)"
   ]
  },
  {
   "cell_type": "code",
   "execution_count": 161,
   "id": "e8960241",
   "metadata": {},
   "outputs": [
    {
     "data": {
      "text/plain": [
       "0      7730337.0\n",
       "1      6796117.0\n",
       "2            NaN\n",
       "3      1148640.0\n",
       "4      5000000.0\n",
       "         ...    \n",
       "453    2433333.0\n",
       "454     900000.0\n",
       "455    2900000.0\n",
       "456     947276.0\n",
       "457          NaN\n",
       "Name: Salary, Length: 458, dtype: float64"
      ]
     },
     "execution_count": 161,
     "metadata": {},
     "output_type": "execute_result"
    }
   ],
   "source": [
    "salary"
   ]
  },
  {
   "cell_type": "code",
   "execution_count": 162,
   "id": "004ca208",
   "metadata": {},
   "outputs": [
    {
     "data": {
      "text/plain": [
       "0      False\n",
       "1      False\n",
       "2       True\n",
       "3      False\n",
       "4      False\n",
       "       ...  \n",
       "453    False\n",
       "454    False\n",
       "455    False\n",
       "456    False\n",
       "457     True\n",
       "Name: Salary, Length: 458, dtype: bool"
      ]
     },
     "execution_count": 162,
     "metadata": {},
     "output_type": "execute_result"
    }
   ],
   "source": [
    "salary.isna()  # Check les valeurs nulles de la colonne"
   ]
  },
  {
   "cell_type": "code",
   "execution_count": 163,
   "id": "a3f04459",
   "metadata": {},
   "outputs": [
    {
     "data": {
      "text/plain": [
       "12"
      ]
     },
     "execution_count": 163,
     "metadata": {},
     "output_type": "execute_result"
    }
   ],
   "source": [
    "sum(salary.isna())"
   ]
  },
  {
   "cell_type": "code",
   "execution_count": 165,
   "id": "48f67a57",
   "metadata": {},
   "outputs": [
    {
     "data": {
      "text/plain": [
       "2159837111.0"
      ]
     },
     "execution_count": 165,
     "metadata": {},
     "output_type": "execute_result"
    }
   ],
   "source": [
    "salary.sum()  # Calcule la somme des valeurs de la colonne"
   ]
  },
  {
   "cell_type": "code",
   "execution_count": 166,
   "id": "f0485a75",
   "metadata": {},
   "outputs": [
    {
     "data": {
      "text/plain": [
       "<AxesSubplot:>"
      ]
     },
     "execution_count": 166,
     "metadata": {},
     "output_type": "execute_result"
    },
    {
     "data": {
      "image/png": "[encoded data removed]",
      "text/plain": [
       "<Figure size 432x288 with 1 Axes>"
      ]
     },
     "metadata": {
      "filenames": {
       "image/png": "/home/abzalov/Documents/Training/books/webdevelopment-python/_build/jupyter_execute/Introduction à la programmation Python_252_1.png"
      },
      "needs_background": "light"
     },
     "output_type": "display_data"
    }
   ],
   "source": [
    "salary.plot()"
   ]
  },
  {
   "cell_type": "code",
   "execution_count": 167,
   "id": "9a9caa68",
   "metadata": {},
   "outputs": [
    {
     "data": {
      "text/plain": [
       "<AxesSubplot:>"
      ]
     },
     "execution_count": 167,
     "metadata": {},
     "output_type": "execute_result"
    },
    {
     "data": {
      "image/png": "[encoded data removed]",
      "text/plain": [
       "<Figure size 432x288 with 1 Axes>"
      ]
     },
     "metadata": {
      "filenames": {
       "image/png": "/home/abzalov/Documents/Training/books/webdevelopment-python/_build/jupyter_execute/Introduction à la programmation Python_253_1.png"
      },
      "needs_background": "light"
     },
     "output_type": "display_data"
    }
   ],
   "source": [
    "salary.hist(bins=10)"
   ]
  },
  {
   "cell_type": "code",
   "execution_count": 168,
   "id": "e4fe8479",
   "metadata": {},
   "outputs": [
    {
     "data": {
      "text/plain": [
       "array([[ 1,  3,  2],\n",
       "       [ 0, -1,  5],\n",
       "       [ 2,  1,  4]])"
      ]
     },
     "execution_count": 168,
     "metadata": {},
     "output_type": "execute_result"
    }
   ],
   "source": [
    "mat"
   ]
  },
  {
   "cell_type": "code",
   "execution_count": 169,
   "id": "2bd47952",
   "metadata": {},
   "outputs": [],
   "source": [
    "mat_df = pd.DataFrame(data=mat, columns=['A', 'B', 'C'])"
   ]
  },
  {
   "cell_type": "code",
   "execution_count": 170,
   "id": "2b5c9137",
   "metadata": {},
   "outputs": [
    {
     "data": {
      "text/html": [
       "<div>\n",
       "<style scoped>\n",
       "    .dataframe tbody tr th:only-of-type {\n",
       "        vertical-align: middle;\n",
       "    }\n",
       "\n",
       "    .dataframe tbody tr th {\n",
       "        vertical-align: top;\n",
       "    }\n",
       "\n",
       "    .dataframe thead th {\n",
       "        text-align: right;\n",
       "    }\n",
       "</style>\n",
       "<table border=\"1\" class=\"dataframe\">\n",
       "  <thead>\n",
       "    <tr style=\"text-align: right;\">\n",
       "      <th></th>\n",
       "      <th>A</th>\n",
       "      <th>B</th>\n",
       "      <th>C</th>\n",
       "    </tr>\n",
       "  </thead>\n",
       "  <tbody>\n",
       "    <tr>\n",
       "      <th>0</th>\n",
       "      <td>1</td>\n",
       "      <td>3</td>\n",
       "      <td>2</td>\n",
       "    </tr>\n",
       "    <tr>\n",
       "      <th>1</th>\n",
       "      <td>0</td>\n",
       "      <td>-1</td>\n",
       "      <td>5</td>\n",
       "    </tr>\n",
       "    <tr>\n",
       "      <th>2</th>\n",
       "      <td>2</td>\n",
       "      <td>1</td>\n",
       "      <td>4</td>\n",
       "    </tr>\n",
       "  </tbody>\n",
       "</table>\n",
       "</div>"
      ],
      "text/plain": [
       "   A  B  C\n",
       "0  1  3  2\n",
       "1  0 -1  5\n",
       "2  2  1  4"
      ]
     },
     "execution_count": 170,
     "metadata": {},
     "output_type": "execute_result"
    }
   ],
   "source": [
    "mat_df"
   ]
  },
  {
   "cell_type": "code",
   "execution_count": 171,
   "id": "c08a866f",
   "metadata": {},
   "outputs": [],
   "source": [
    "mat_df_avec_index = pd.DataFrame(data=mat, columns=['A', 'B', 'C'], index=['a', 'b', 'c'])"
   ]
  },
  {
   "cell_type": "code",
   "execution_count": 172,
   "id": "3bea2167",
   "metadata": {},
   "outputs": [
    {
     "data": {
      "text/html": [
       "<div>\n",
       "<style scoped>\n",
       "    .dataframe tbody tr th:only-of-type {\n",
       "        vertical-align: middle;\n",
       "    }\n",
       "\n",
       "    .dataframe tbody tr th {\n",
       "        vertical-align: top;\n",
       "    }\n",
       "\n",
       "    .dataframe thead th {\n",
       "        text-align: right;\n",
       "    }\n",
       "</style>\n",
       "<table border=\"1\" class=\"dataframe\">\n",
       "  <thead>\n",
       "    <tr style=\"text-align: right;\">\n",
       "      <th></th>\n",
       "      <th>A</th>\n",
       "      <th>B</th>\n",
       "      <th>C</th>\n",
       "    </tr>\n",
       "  </thead>\n",
       "  <tbody>\n",
       "    <tr>\n",
       "      <th>a</th>\n",
       "      <td>1</td>\n",
       "      <td>3</td>\n",
       "      <td>2</td>\n",
       "    </tr>\n",
       "    <tr>\n",
       "      <th>b</th>\n",
       "      <td>0</td>\n",
       "      <td>-1</td>\n",
       "      <td>5</td>\n",
       "    </tr>\n",
       "    <tr>\n",
       "      <th>c</th>\n",
       "      <td>2</td>\n",
       "      <td>1</td>\n",
       "      <td>4</td>\n",
       "    </tr>\n",
       "  </tbody>\n",
       "</table>\n",
       "</div>"
      ],
      "text/plain": [
       "   A  B  C\n",
       "a  1  3  2\n",
       "b  0 -1  5\n",
       "c  2  1  4"
      ]
     },
     "execution_count": 172,
     "metadata": {},
     "output_type": "execute_result"
    }
   ],
   "source": [
    "mat_df_avec_index"
   ]
  },
  {
   "cell_type": "code",
   "execution_count": 173,
   "id": "11335c79",
   "metadata": {},
   "outputs": [],
   "source": [
    "A = [1, 3, 2]\n",
    "B = [0, -1, 5]\n",
    "C = [2, 1, 4]"
   ]
  },
  {
   "cell_type": "code",
   "execution_count": 174,
   "id": "da46bc25",
   "metadata": {},
   "outputs": [],
   "source": [
    "df_lst = pd.DataFrame({'A': A, 'B': B, 'C': C})"
   ]
  },
  {
   "cell_type": "code",
   "execution_count": 175,
   "id": "abf2e3b3",
   "metadata": {},
   "outputs": [
    {
     "data": {
      "text/html": [
       "<div>\n",
       "<style scoped>\n",
       "    .dataframe tbody tr th:only-of-type {\n",
       "        vertical-align: middle;\n",
       "    }\n",
       "\n",
       "    .dataframe tbody tr th {\n",
       "        vertical-align: top;\n",
       "    }\n",
       "\n",
       "    .dataframe thead th {\n",
       "        text-align: right;\n",
       "    }\n",
       "</style>\n",
       "<table border=\"1\" class=\"dataframe\">\n",
       "  <thead>\n",
       "    <tr style=\"text-align: right;\">\n",
       "      <th></th>\n",
       "      <th>A</th>\n",
       "      <th>B</th>\n",
       "      <th>C</th>\n",
       "    </tr>\n",
       "  </thead>\n",
       "  <tbody>\n",
       "    <tr>\n",
       "      <th>0</th>\n",
       "      <td>1</td>\n",
       "      <td>0</td>\n",
       "      <td>2</td>\n",
       "    </tr>\n",
       "    <tr>\n",
       "      <th>1</th>\n",
       "      <td>3</td>\n",
       "      <td>-1</td>\n",
       "      <td>1</td>\n",
       "    </tr>\n",
       "    <tr>\n",
       "      <th>2</th>\n",
       "      <td>2</td>\n",
       "      <td>5</td>\n",
       "      <td>4</td>\n",
       "    </tr>\n",
       "  </tbody>\n",
       "</table>\n",
       "</div>"
      ],
      "text/plain": [
       "   A  B  C\n",
       "0  1  0  2\n",
       "1  3 -1  1\n",
       "2  2  5  4"
      ]
     },
     "execution_count": 175,
     "metadata": {},
     "output_type": "execute_result"
    }
   ],
   "source": [
    "df_lst"
   ]
  },
  {
   "cell_type": "code",
   "execution_count": 176,
   "id": "ce1d3863",
   "metadata": {},
   "outputs": [],
   "source": [
    "df_lst = pd.DataFrame(data=zip(A, B, C))"
   ]
  },
  {
   "cell_type": "code",
   "execution_count": 177,
   "id": "f3592ff4",
   "metadata": {},
   "outputs": [
    {
     "data": {
      "text/html": [
       "<div>\n",
       "<style scoped>\n",
       "    .dataframe tbody tr th:only-of-type {\n",
       "        vertical-align: middle;\n",
       "    }\n",
       "\n",
       "    .dataframe tbody tr th {\n",
       "        vertical-align: top;\n",
       "    }\n",
       "\n",
       "    .dataframe thead th {\n",
       "        text-align: right;\n",
       "    }\n",
       "</style>\n",
       "<table border=\"1\" class=\"dataframe\">\n",
       "  <thead>\n",
       "    <tr style=\"text-align: right;\">\n",
       "      <th></th>\n",
       "      <th>0</th>\n",
       "      <th>1</th>\n",
       "      <th>2</th>\n",
       "    </tr>\n",
       "  </thead>\n",
       "  <tbody>\n",
       "    <tr>\n",
       "      <th>0</th>\n",
       "      <td>1</td>\n",
       "      <td>0</td>\n",
       "      <td>2</td>\n",
       "    </tr>\n",
       "    <tr>\n",
       "      <th>1</th>\n",
       "      <td>3</td>\n",
       "      <td>-1</td>\n",
       "      <td>1</td>\n",
       "    </tr>\n",
       "    <tr>\n",
       "      <th>2</th>\n",
       "      <td>2</td>\n",
       "      <td>5</td>\n",
       "      <td>4</td>\n",
       "    </tr>\n",
       "  </tbody>\n",
       "</table>\n",
       "</div>"
      ],
      "text/plain": [
       "   0  1  2\n",
       "0  1  0  2\n",
       "1  3 -1  1\n",
       "2  2  5  4"
      ]
     },
     "execution_count": 177,
     "metadata": {},
     "output_type": "execute_result"
    }
   ],
   "source": [
    "df_lst"
   ]
  },
  {
   "cell_type": "code",
   "execution_count": 179,
   "id": "54d72825",
   "metadata": {},
   "outputs": [],
   "source": [
    "mat_2 = np.array([A, B, C])"
   ]
  },
  {
   "cell_type": "code",
   "execution_count": 182,
   "id": "8f673d9d",
   "metadata": {},
   "outputs": [
    {
     "data": {
      "text/plain": [
       "array([[ 1,  3,  2],\n",
       "       [ 0, -1,  5],\n",
       "       [ 2,  1,  4]])"
      ]
     },
     "execution_count": 182,
     "metadata": {},
     "output_type": "execute_result"
    }
   ],
   "source": [
    "mat_2"
   ]
  },
  {
   "cell_type": "code",
   "execution_count": 183,
   "id": "0b5d8c28",
   "metadata": {},
   "outputs": [
    {
     "data": {
      "text/plain": [
       "array([[ 1,  0,  2],\n",
       "       [ 3, -1,  1],\n",
       "       [ 2,  5,  4]])"
      ]
     },
     "execution_count": 183,
     "metadata": {},
     "output_type": "execute_result"
    }
   ],
   "source": [
    "mat_2.T"
   ]
  },
  {
   "cell_type": "code",
   "execution_count": 189,
   "id": "2f5bd1d0",
   "metadata": {},
   "outputs": [],
   "source": [
    "import datetime\n",
    "start = datetime.datetime(2011, 1, 1)\n",
    "end = datetime.datetime(2012, 1, 1)\n",
    "rng = pd.date_range(start, end, freq=\"D\")\n",
    "ts = pd.Series(np.random.randn(len(rng)), index=rng)"
   ]
  },
  {
   "cell_type": "code",
   "execution_count": 190,
   "id": "c5206add",
   "metadata": {},
   "outputs": [
    {
     "data": {
      "text/plain": [
       "DatetimeIndex(['2011-01-01', '2011-01-02', '2011-01-03', '2011-01-04',\n",
       "               '2011-01-05', '2011-01-06', '2011-01-07', '2011-01-08',\n",
       "               '2011-01-09', '2011-01-10',\n",
       "               ...\n",
       "               '2011-12-23', '2011-12-24', '2011-12-25', '2011-12-26',\n",
       "               '2011-12-27', '2011-12-28', '2011-12-29', '2011-12-30',\n",
       "               '2011-12-31', '2012-01-01'],\n",
       "              dtype='datetime64[ns]', length=366, freq='D')"
      ]
     },
     "execution_count": 190,
     "metadata": {},
     "output_type": "execute_result"
    }
   ],
   "source": [
    "rng"
   ]
  },
  {
   "cell_type": "markdown",
   "id": "57d0b261",
   "metadata": {},
   "source": [
    "Une série dont les valeurs des index sont des dates (avec temps) est appelée **`série temporelle`** ou **`série chronologique`**."
   ]
  },
  {
   "cell_type": "code",
   "execution_count": 191,
   "id": "c9278f1a",
   "metadata": {},
   "outputs": [
    {
     "data": {
      "text/plain": [
       "2011-01-01   -1.015319\n",
       "2011-01-02    0.113784\n",
       "2011-01-03    0.021136\n",
       "2011-01-04   -0.336055\n",
       "2011-01-05   -0.203836\n",
       "                ...   \n",
       "2011-12-28   -0.764755\n",
       "2011-12-29    0.221889\n",
       "2011-12-30    0.457371\n",
       "2011-12-31   -1.230131\n",
       "2012-01-01    0.320369\n",
       "Freq: D, Length: 366, dtype: float64"
      ]
     },
     "execution_count": 191,
     "metadata": {},
     "output_type": "execute_result"
    }
   ],
   "source": [
    "# La variable `ts' est une série temporelle.\n",
    "ts"
   ]
  },
  {
   "cell_type": "code",
   "execution_count": 192,
   "id": "2136fc64",
   "metadata": {},
   "outputs": [
    {
     "data": {
      "text/plain": [
       "DatetimeIndex(['2011-01-01', '2011-01-02', '2011-01-03', '2011-01-04',\n",
       "               '2011-01-05', '2011-01-06', '2011-01-07', '2011-01-08',\n",
       "               '2011-01-09', '2011-01-10',\n",
       "               ...\n",
       "               '2011-12-23', '2011-12-24', '2011-12-25', '2011-12-26',\n",
       "               '2011-12-27', '2011-12-28', '2011-12-29', '2011-12-30',\n",
       "               '2011-12-31', '2012-01-01'],\n",
       "              dtype='datetime64[ns]', length=366, freq='D')"
      ]
     },
     "execution_count": 192,
     "metadata": {},
     "output_type": "execute_result"
    }
   ],
   "source": [
    "ts.index"
   ]
  },
  {
   "cell_type": "code",
   "execution_count": 193,
   "id": "59c77a39",
   "metadata": {},
   "outputs": [
    {
     "data": {
      "text/plain": [
       "<AxesSubplot:>"
      ]
     },
     "execution_count": 193,
     "metadata": {},
     "output_type": "execute_result"
    },
    {
     "data": {
      "image/png": "[encoded data removed]",
      "text/plain": [
       "<Figure size 432x288 with 1 Axes>"
      ]
     },
     "metadata": {
      "filenames": {
       "image/png": "/home/abzalov/Documents/Training/books/webdevelopment-python/_build/jupyter_execute/Introduction à la programmation Python_272_1.png"
      },
      "needs_background": "light"
     },
     "output_type": "display_data"
    }
   ],
   "source": [
    "ts.plot()"
   ]
  },
  {
   "cell_type": "code",
   "execution_count": null,
   "id": "7d982c82",
   "metadata": {},
   "outputs": [],
   "source": []
  }
 ],
 "metadata": {
  "kernelspec": {
   "display_name": "Python 3 (ipykernel)",
   "language": "python",
   "name": "python3"
  },
  "language_info": {
   "codemirror_mode": {
    "name": "ipython",
    "version": 3
   },
   "file_extension": ".py",
   "mimetype": "text/x-python",
   "name": "python",
   "nbconvert_exporter": "python",
   "pygments_lexer": "ipython3",
   "version": "3.10.7"
  }
 },
 "nbformat": 4,
 "nbformat_minor": 5
}